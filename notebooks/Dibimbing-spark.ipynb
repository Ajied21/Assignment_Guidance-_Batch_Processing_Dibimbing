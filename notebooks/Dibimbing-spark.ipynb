{
 "cells": [
  {
   "cell_type": "code",
   "execution_count": 1,
   "id": "a867864e-ad0e-4175-9ba7-00028eba48a5",
   "metadata": {
    "tags": []
   },
   "outputs": [],
   "source": [
    "import pyspark\n",
    "import os\n",
    "import json\n",
    "import argparse\n",
    "\n",
    "from dotenv import load_dotenv\n",
    "from pathlib import Path\n",
    "from pyspark.sql.types import StructType\n",
    "from pyspark.sql.functions import to_timestamp,col,when"
   ]
  },
  {
   "cell_type": "markdown",
   "id": "efc4e293-7230-4d7c-bc4f-f8ba5d4e32e8",
   "metadata": {
    "tags": []
   },
   "source": [
    "## Initialization"
   ]
  },
  {
   "cell_type": "code",
   "execution_count": 2,
   "id": "a8ac2902-1ba2-4f59-b3db-da15788af820",
   "metadata": {
    "tags": []
   },
   "outputs": [
    {
     "data": {
      "text/plain": [
       "True"
      ]
     },
     "execution_count": 2,
     "metadata": {},
     "output_type": "execute_result"
    }
   ],
   "source": [
    "dotenv_path = Path('/resources/.env')\n",
    "load_dotenv(dotenv_path=dotenv_path)"
   ]
  },
  {
   "cell_type": "code",
   "execution_count": 3,
   "id": "0ba0f442-5349-4f76-87e6-7147a1963dc7",
   "metadata": {
    "tags": []
   },
   "outputs": [],
   "source": [
    "postgres_host = os.getenv('POSTGRES_CONTAINER_NAME')\n",
    "postgres_dw_db = os.getenv('POSTGRES_DW_DB')\n",
    "postgres_user = os.getenv('POSTGRES_USER')\n",
    "postgres_password = os.getenv('POSTGRES_PASSWORD')"
   ]
  },
  {
   "cell_type": "code",
   "execution_count": 4,
   "id": "025b23a6-c84c-48d4-87e4-94d4a9953d1b",
   "metadata": {
    "tags": []
   },
   "outputs": [],
   "source": [
    "sparkcontext = pyspark.SparkContext.getOrCreate(conf=(\n",
    "        pyspark\n",
    "        .SparkConf()\n",
    "        .setAppName('Dibimbing')\n",
    "        .setMaster('local')\n",
    "        .set(\"spark.jars\", \"/opt/postgresql-42.2.18.jar\")\n",
    "    ))\n",
    "sparkcontext.setLogLevel(\"WARN\")\n",
    "\n",
    "spark = pyspark.sql.SparkSession(sparkcontext.getOrCreate())"
   ]
  },
  {
   "cell_type": "code",
   "execution_count": 5,
   "id": "5bc1fd6b-ed91-4843-af3a-14e7c6114b6a",
   "metadata": {
    "tags": []
   },
   "outputs": [
    {
     "data": {
      "text/html": [
       "\n",
       "            <div>\n",
       "                <p><b>SparkSession - in-memory</b></p>\n",
       "                \n",
       "        <div>\n",
       "            <p><b>SparkContext</b></p>\n",
       "\n",
       "            <p><a href=\"http://dibimbing-jupyter:4040\">Spark UI</a></p>\n",
       "\n",
       "            <dl>\n",
       "              <dt>Version</dt>\n",
       "                <dd><code>v3.3.2</code></dd>\n",
       "              <dt>Master</dt>\n",
       "                <dd><code>local</code></dd>\n",
       "              <dt>AppName</dt>\n",
       "                <dd><code>Dibimbing</code></dd>\n",
       "            </dl>\n",
       "        </div>\n",
       "        \n",
       "            </div>\n",
       "        "
      ],
      "text/plain": [
       "<pyspark.sql.session.SparkSession at 0x7f1d1468a890>"
      ]
     },
     "execution_count": 5,
     "metadata": {},
     "output_type": "execute_result"
    }
   ],
   "source": [
    "spark"
   ]
  },
  {
   "cell_type": "markdown",
   "id": "fce8def0-a6b9-4fa7-a6f3-4df51d235b7d",
   "metadata": {
    "tags": []
   },
   "source": [
    "## Basic"
   ]
  },
  {
   "cell_type": "code",
   "execution_count": 6,
   "id": "9faae8a4-7c8d-4d15-a3ed-422afb3def32",
   "metadata": {
    "tags": []
   },
   "outputs": [],
   "source": [
    "schema = \"invoice_no long, stock_code string, description string, quantity int, invoice_date string, unit_price float, customer_id int, country string\"\n",
    "\n",
    "df = spark.read.csv(\"/resources/data/online-retail-dataset.csv\", header=True, schema=schema)\n",
    "df = df.withColumn(\"invoice_date\", to_timestamp(df[\"invoice_date\"], \"M/d/yyyy H:mm\"))"
   ]
  },
  {
   "cell_type": "code",
   "execution_count": 7,
   "id": "adddd7a6-58ce-4fa3-82b9-fa5595285ad1",
   "metadata": {
    "tags": []
   },
   "outputs": [
    {
     "name": "stdout",
     "output_type": "stream",
     "text": [
      "+----------+----------+--------------------+--------+-------------------+----------+-----------+--------------+\n",
      "|invoice_no|stock_code|         description|quantity|       invoice_date|unit_price|customer_id|       country|\n",
      "+----------+----------+--------------------+--------+-------------------+----------+-----------+--------------+\n",
      "|    536365|    85123A|WHITE HANGING HEA...|       6|2010-12-01 08:26:00|      2.55|      17850|United Kingdom|\n",
      "|    536365|     71053| WHITE METAL LANTERN|       6|2010-12-01 08:26:00|      3.39|      17850|United Kingdom|\n",
      "|    536365|    84406B|CREAM CUPID HEART...|       8|2010-12-01 08:26:00|      2.75|      17850|United Kingdom|\n",
      "|    536365|    84029G|KNITTED UNION FLA...|       6|2010-12-01 08:26:00|      3.39|      17850|United Kingdom|\n",
      "|    536365|    84029E|RED WOOLLY HOTTIE...|       6|2010-12-01 08:26:00|      3.39|      17850|United Kingdom|\n",
      "+----------+----------+--------------------+--------+-------------------+----------+-----------+--------------+\n",
      "only showing top 5 rows\n",
      "\n",
      "root\n",
      " |-- invoice_no: long (nullable = true)\n",
      " |-- stock_code: string (nullable = true)\n",
      " |-- description: string (nullable = true)\n",
      " |-- quantity: integer (nullable = true)\n",
      " |-- invoice_date: timestamp (nullable = true)\n",
      " |-- unit_price: float (nullable = true)\n",
      " |-- customer_id: integer (nullable = true)\n",
      " |-- country: string (nullable = true)\n",
      "\n"
     ]
    },
    {
     "data": {
      "text/plain": [
       "['invoice_no',\n",
       " 'stock_code',\n",
       " 'description',\n",
       " 'quantity',\n",
       " 'invoice_date',\n",
       " 'unit_price',\n",
       " 'customer_id',\n",
       " 'country']"
      ]
     },
     "execution_count": 7,
     "metadata": {},
     "output_type": "execute_result"
    }
   ],
   "source": [
    "# == Viewing Data ==\n",
    "# Display top 5 rows\n",
    "df.show(5)\n",
    "\n",
    "# Display the schema of the DataFrame\n",
    "df.printSchema()\n",
    "\n",
    "# List all column names\n",
    "df.columns"
   ]
  },
  {
   "cell_type": "code",
   "execution_count": 8,
   "id": "27fe3713-e094-47fb-85a9-67219454a34b",
   "metadata": {
    "tags": []
   },
   "outputs": [
    {
     "name": "stdout",
     "output_type": "stream",
     "text": [
      "+----------+----------+\n",
      "|invoice_no|stock_code|\n",
      "+----------+----------+\n",
      "|    536365|    85123A|\n",
      "|    536365|     71053|\n",
      "|    536365|    84406B|\n",
      "|    536365|    84029G|\n",
      "|    536365|    84029E|\n",
      "|    536365|     22752|\n",
      "|    536365|     21730|\n",
      "|    536366|     22633|\n",
      "|    536366|     22632|\n",
      "|    536367|     84879|\n",
      "|    536367|     22745|\n",
      "|    536367|     22748|\n",
      "|    536367|     22749|\n",
      "|    536367|     22310|\n",
      "|    536367|     84969|\n",
      "|    536367|     22623|\n",
      "|    536367|     22622|\n",
      "|    536367|     21754|\n",
      "|    536367|     21755|\n",
      "|    536367|     21777|\n",
      "+----------+----------+\n",
      "only showing top 20 rows\n",
      "\n",
      "+--------------+\n",
      "|invoice_number|\n",
      "+--------------+\n",
      "|        536365|\n",
      "|        536365|\n",
      "|        536365|\n",
      "|        536365|\n",
      "|        536365|\n",
      "|        536365|\n",
      "|        536365|\n",
      "|        536366|\n",
      "|        536366|\n",
      "|        536367|\n",
      "|        536367|\n",
      "|        536367|\n",
      "|        536367|\n",
      "|        536367|\n",
      "|        536367|\n",
      "|        536367|\n",
      "|        536367|\n",
      "|        536367|\n",
      "|        536367|\n",
      "|        536367|\n",
      "+--------------+\n",
      "only showing top 20 rows\n",
      "\n"
     ]
    }
   ],
   "source": [
    "# == Selecting Columns ==\n",
    "# Select specific columns\n",
    "df.select(\"invoice_no\", \"stock_code\").show()\n",
    "\n",
    "# Using alias to rename a column\n",
    "df.select(df.invoice_no.alias(\"invoice_number\")).show()"
   ]
  },
  {
   "cell_type": "code",
   "execution_count": 9,
   "id": "6408a930-e173-4a3c-83da-28a28551daa0",
   "metadata": {
    "tags": []
   },
   "outputs": [
    {
     "name": "stdout",
     "output_type": "stream",
     "text": [
      "+----------+----------+--------------------+--------+-------------------+----------+-----------+--------------+\n",
      "|invoice_no|stock_code|         description|quantity|       invoice_date|unit_price|customer_id|       country|\n",
      "+----------+----------+--------------------+--------+-------------------+----------+-----------+--------------+\n",
      "|    536365|     22752|SET 7 BABUSHKA NE...|       2|2010-12-01 08:26:00|      7.65|      17850|United Kingdom|\n",
      "|    536367|     22622|BOX OF VINTAGE AL...|       2|2010-12-01 08:34:00|      9.95|      13047|United Kingdom|\n",
      "|    536367|     21754|HOME BUILDING BLO...|       3|2010-12-01 08:34:00|      5.95|      13047|United Kingdom|\n",
      "|    536367|     21755|LOVE BUILDING BLO...|       3|2010-12-01 08:34:00|      5.95|      13047|United Kingdom|\n",
      "|    536367|     21777|RECIPE BOX WITH M...|       4|2010-12-01 08:34:00|      7.95|      13047|United Kingdom|\n",
      "|    536367|     48187| DOORMAT NEW ENGLAND|       4|2010-12-01 08:34:00|      7.95|      13047|United Kingdom|\n",
      "|    536369|     21756|BATH BUILDING BLO...|       3|2010-12-01 08:35:00|      5.95|      13047|United Kingdom|\n",
      "|    536370|      POST|             POSTAGE|       3|2010-12-01 08:45:00|      18.0|      12583|        France|\n",
      "|    536373|     82486|WOOD S/3 CABINET ...|       4|2010-12-01 09:02:00|      6.95|      17850|United Kingdom|\n",
      "|    536373|     22752|SET 7 BABUSHKA NE...|       2|2010-12-01 09:02:00|      7.65|      17850|United Kingdom|\n",
      "|    536374|     21258|VICTORIAN SEWING ...|      32|2010-12-01 09:09:00|     10.95|      15100|United Kingdom|\n",
      "|    536375|     82486|WOOD S/3 CABINET ...|       4|2010-12-01 09:32:00|      6.95|      17850|United Kingdom|\n",
      "|    536375|     22752|SET 7 BABUSHKA NE...|       2|2010-12-01 09:32:00|      7.65|      17850|United Kingdom|\n",
      "|    536381|   15056BL|EDWARDIAN PARASOL...|       2|2010-12-01 09:41:00|      5.95|      15311|United Kingdom|\n",
      "|    536381|    15056N|EDWARDIAN PARASOL...|       2|2010-12-01 09:41:00|      5.95|      15311|United Kingdom|\n",
      "|    536381|     21523|DOORMAT FANCY FON...|      10|2010-12-01 09:41:00|      6.75|      15311|United Kingdom|\n",
      "|      null|         D|            Discount|      -1|2010-12-01 09:41:00|      27.5|      14527|United Kingdom|\n",
      "|    536382|     22926|IVORY GIANT GARDE...|      12|2010-12-01 09:45:00|      5.95|      16098|United Kingdom|\n",
      "|    536382|     22839|3 TIER CAKE TIN G...|       2|2010-12-01 09:45:00|     14.95|      16098|United Kingdom|\n",
      "|    536382|     22838|3 TIER CAKE TIN R...|       2|2010-12-01 09:45:00|     14.95|      16098|United Kingdom|\n",
      "+----------+----------+--------------------+--------+-------------------+----------+-----------+--------------+\n",
      "only showing top 20 rows\n",
      "\n",
      "+----------+----------+--------------------+--------+-------------------+----------+-----------+--------------+\n",
      "|invoice_no|stock_code|         description|quantity|       invoice_date|unit_price|customer_id|       country|\n",
      "+----------+----------+--------------------+--------+-------------------+----------+-----------+--------------+\n",
      "|    538855|    85135C|RED DRAGONFLY HEL...|       4|2010-12-14 13:50:00|      7.95|      16503|United Kingdom|\n",
      "|    538855|     21055|  TOOL BOX SOFT TOY |       1|2010-12-14 13:50:00|      8.95|      16503|United Kingdom|\n",
      "|    538855|     22781|GUMBALL MAGAZINE ...|       2|2010-12-14 13:50:00|      7.65|      16503|United Kingdom|\n",
      "|    538855|     22968|ROSE COTTAGE KEEP...|       2|2010-12-14 13:50:00|      9.95|      16503|United Kingdom|\n",
      "|      null|    85135C|RED DRAGONFLY HEL...|      -1|2010-12-16 15:36:00|      7.95|      16503|United Kingdom|\n",
      "|    541086|     21056|DOCTOR'S BAG SOFT...|       2|2011-01-13 12:32:00|      8.95|      16503|United Kingdom|\n",
      "|    541086|     22179|SET 10 LIGHTS NIG...|       2|2011-01-13 12:32:00|      6.75|      16503|United Kingdom|\n",
      "|    541086|     22468|BABUSHKA LIGHTS S...|       2|2011-01-13 12:32:00|      6.75|      16503|United Kingdom|\n",
      "|    541086|     21054|NURSE'S BAG SOFT TOY|       2|2011-01-13 12:32:00|      8.95|      16503|United Kingdom|\n",
      "|    541086|    85135C|RED DRAGONFLY HEL...|       2|2011-01-13 12:32:00|      7.95|      16503|United Kingdom|\n",
      "|    541086|    85136A|YELLOW SHARK HELI...|       2|2011-01-13 12:32:00|      7.95|      16503|United Kingdom|\n",
      "|    541086|     21360|JOY LARGE WOOD LE...|       1|2011-01-13 12:32:00|      9.95|      16503|United Kingdom|\n",
      "|    552472|     22485|SET OF 2 WOODEN M...|       2|2011-05-09 15:48:00|     12.75|      16503|United Kingdom|\n",
      "|    552472|     22781|GUMBALL MAGAZINE ...|       2|2011-05-09 15:48:00|      7.65|      16503|United Kingdom|\n",
      "|    552472|     21056|DOCTOR'S BAG SOFT...|       1|2011-05-09 15:48:00|      8.95|      16503|United Kingdom|\n",
      "|    552472|     22526|WHEELBARROW FOR C...|       1|2011-05-09 15:48:00|     12.75|      16503|United Kingdom|\n",
      "|    564433|     20750|RED RETROSPOT MIN...|       2|2011-08-25 11:46:00|      7.95|      16503|United Kingdom|\n",
      "|    564433|     20749|ASSORTED COLOUR M...|       2|2011-08-25 11:46:00|      7.95|      16503|United Kingdom|\n",
      "|    564433|     21055|  TOOL BOX SOFT TOY |       1|2011-08-25 11:46:00|      8.95|      16503|United Kingdom|\n",
      "|    564433|     22179|SET 10 NIGHT OWL ...|       2|2011-08-25 11:46:00|      6.75|      16503|United Kingdom|\n",
      "+----------+----------+--------------------+--------+-------------------+----------+-----------+--------------+\n",
      "only showing top 20 rows\n",
      "\n"
     ]
    }
   ],
   "source": [
    "# == Filtering Rows (WHERE) ==\n",
    "# Filter rows using a condition\n",
    "df.filter(df.unit_price > 5).show()\n",
    "\n",
    "# Filter using multiple conditions\n",
    "df.filter((df.unit_price > 5) & (df.customer_id == \"16503\")).show()\n"
   ]
  },
  {
   "cell_type": "code",
   "execution_count": 10,
   "id": "2a8b5c6f-567e-44f2-ab16-9f0972e698bf",
   "metadata": {
    "tags": []
   },
   "outputs": [
    {
     "name": "stdout",
     "output_type": "stream",
     "text": [
      "+----------+----------+--------------------+--------+-------------------+----------+-----------+--------------+\n",
      "|invoice_no|stock_code|         description|quantity|       invoice_date|unit_price|customer_id|       country|\n",
      "+----------+----------+--------------------+--------+-------------------+----------+-----------+--------------+\n",
      "|    536365|     22752|SET 7 BABUSHKA NE...|       2|2010-12-01 08:26:00|      7.65|      17850|United Kingdom|\n",
      "|    536365|    84406B|CREAM CUPID HEART...|       8|2010-12-01 08:26:00|      2.75|      17850|United Kingdom|\n",
      "|    536365|     21730|GLASS STAR FROSTE...|       6|2010-12-01 08:26:00|      4.25|      17850|United Kingdom|\n",
      "|    536365|    84029G|KNITTED UNION FLA...|       6|2010-12-01 08:26:00|      3.39|      17850|United Kingdom|\n",
      "|    536365|    85123A|WHITE HANGING HEA...|       6|2010-12-01 08:26:00|      2.55|      17850|United Kingdom|\n",
      "|    536365|     71053| WHITE METAL LANTERN|       6|2010-12-01 08:26:00|      3.39|      17850|United Kingdom|\n",
      "|    536365|    84029E|RED WOOLLY HOTTIE...|       6|2010-12-01 08:26:00|      3.39|      17850|United Kingdom|\n",
      "|    536366|     22632|HAND WARMER RED P...|       6|2010-12-01 08:28:00|      1.85|      17850|United Kingdom|\n",
      "|    536366|     22633|HAND WARMER UNION...|       6|2010-12-01 08:28:00|      1.85|      17850|United Kingdom|\n",
      "|    536367|     84879|ASSORTED COLOUR B...|      32|2010-12-01 08:34:00|      1.69|      13047|United Kingdom|\n",
      "|    536367|     22745|POPPY'S PLAYHOUSE...|       6|2010-12-01 08:34:00|       2.1|      13047|United Kingdom|\n",
      "|    536367|     22748|POPPY'S PLAYHOUSE...|       6|2010-12-01 08:34:00|       2.1|      13047|United Kingdom|\n",
      "|    536367|     22623|BOX OF VINTAGE JI...|       3|2010-12-01 08:34:00|      4.95|      13047|United Kingdom|\n",
      "|    536367|     21777|RECIPE BOX WITH M...|       4|2010-12-01 08:34:00|      7.95|      13047|United Kingdom|\n",
      "|    536367|     22749|FELTCRAFT PRINCES...|       8|2010-12-01 08:34:00|      3.75|      13047|United Kingdom|\n",
      "|    536367|     22310|IVORY KNITTED MUG...|       6|2010-12-01 08:34:00|      1.65|      13047|United Kingdom|\n",
      "|    536367|     22622|BOX OF VINTAGE AL...|       2|2010-12-01 08:34:00|      9.95|      13047|United Kingdom|\n",
      "|    536367|     21754|HOME BUILDING BLO...|       3|2010-12-01 08:34:00|      5.95|      13047|United Kingdom|\n",
      "|    536367|     48187| DOORMAT NEW ENGLAND|       4|2010-12-01 08:34:00|      7.95|      13047|United Kingdom|\n",
      "|    536367|     84969|BOX OF 6 ASSORTED...|       6|2010-12-01 08:34:00|      4.25|      13047|United Kingdom|\n",
      "+----------+----------+--------------------+--------+-------------------+----------+-----------+--------------+\n",
      "only showing top 20 rows\n",
      "\n",
      "+----------+----------+--------------------+--------+-------------------+----------+-----------+--------------+\n",
      "|invoice_no|stock_code|         description|quantity|       invoice_date|unit_price|customer_id|       country|\n",
      "+----------+----------+--------------------+--------+-------------------+----------+-----------+--------------+\n",
      "|      null|     84978|HANGING HEART JAR...|      -1|2011-12-09 11:58:00|      1.25|      17315|United Kingdom|\n",
      "|      null|     20979|36 PENCILS TUBE R...|      -5|2011-12-09 11:58:00|      1.25|      17315|United Kingdom|\n",
      "|      null|     21258|VICTORIAN SEWING ...|      -5|2011-12-09 11:57:00|     10.95|      15311|United Kingdom|\n",
      "|      null|         M|              Manual|      -1|2011-12-09 10:28:00|    224.69|      15498|United Kingdom|\n",
      "|      null|     22178|VICTORIAN GLASS H...|     -12|2011-12-09 09:57:00|      1.95|      14397|United Kingdom|\n",
      "|      null|     23144|ZINC T-LIGHT HOLD...|     -11|2011-12-09 09:57:00|      0.83|      14397|United Kingdom|\n",
      "|      null|     23843|PAPER CRAFT , LIT...|  -80995|2011-12-09 09:27:00|      2.08|      16446|United Kingdom|\n",
      "|      null|     23084|  RABBIT NIGHT LIGHT|      -4|2011-12-08 19:28:00|      2.08|      17924|United Kingdom|\n",
      "|      null|     21314|SMALL GLASS HEART...|     -10|2011-12-08 19:26:00|       2.1|      13599|United Kingdom|\n",
      "|      null|     22098|BOUDOIR SQUARE TI...|     -12|2011-12-08 19:26:00|      0.39|      13599|United Kingdom|\n",
      "|      null|     22838|3 TIER CAKE TIN R...|      -1|2011-12-08 19:20:00|     14.95|      13883|United Kingdom|\n",
      "|      null|     21216|SET 3 RETROSPOT T...|      -1|2011-12-08 19:20:00|      4.95|      13883|United Kingdom|\n",
      "|      null|     21535|RED RETROSPOT SMA...|      -2|2011-12-08 19:20:00|      2.55|      13883|United Kingdom|\n",
      "|      null|     21232|STRAWBERRY CERAMI...|      -1|2011-12-08 19:20:00|      1.25|      13883|United Kingdom|\n",
      "|      null|     22720|SET OF 3 CAKE TIN...|      -2|2011-12-08 19:20:00|      4.95|      13883|United Kingdom|\n",
      "|      null|     21876|       POTTERING MUG|      -4|2011-12-08 18:59:00|      1.65|      15755|United Kingdom|\n",
      "|      null|     23660|  HENRIETTA HEN MUG |      -2|2011-12-08 18:59:00|      1.65|      15755|United Kingdom|\n",
      "|      null|     20914|SET/5 RED RETROSP...|      -3|2011-12-08 18:59:00|      2.95|      15755|United Kingdom|\n",
      "|      null|     22171|3 HOOK PHOTO SHEL...|      -1|2011-12-08 18:59:00|       8.5|      15755|United Kingdom|\n",
      "|      null|     23458|DOLLY CABINET 3 D...|      -1|2011-12-08 18:57:00|     14.95|      15951|United Kingdom|\n",
      "+----------+----------+--------------------+--------+-------------------+----------+-----------+--------------+\n",
      "only showing top 20 rows\n",
      "\n"
     ]
    }
   ],
   "source": [
    "# Cell 6: Sorting Rows (ORDER BY)\n",
    "# Sort by a single column\n",
    "df.orderBy(\"invoice_date\").show()\n",
    "\n",
    "# Sort by multiple columns\n",
    "df.orderBy(df.invoice_no.asc(), df.invoice_date.desc()).show()\n"
   ]
  },
  {
   "cell_type": "code",
   "execution_count": 11,
   "id": "19fc46da-7e0c-4523-a1d3-f5c473db4fdb",
   "metadata": {
    "tags": []
   },
   "outputs": [
    {
     "name": "stdout",
     "output_type": "stream",
     "text": [
      "+-----------+-----+\n",
      "|customer_id|count|\n",
      "+-----------+-----+\n",
      "|      17420|   30|\n",
      "|      16861|    8|\n",
      "|      16503|   86|\n",
      "|      15727|  302|\n",
      "|      17389|  224|\n",
      "|      15447|    9|\n",
      "|      14450|   40|\n",
      "|      13623|   86|\n",
      "|      13285|  187|\n",
      "|      16339|   20|\n",
      "|      14570|   29|\n",
      "|      16386|   88|\n",
      "|      18024|   22|\n",
      "|      12940|  103|\n",
      "|      17679|   30|\n",
      "|      16574|   28|\n",
      "|      15957|   42|\n",
      "|      13832|    4|\n",
      "|      15619|    3|\n",
      "|      15790|   35|\n",
      "+-----------+-----+\n",
      "only showing top 20 rows\n",
      "\n",
      "+-----------+------------------+\n",
      "|customer_id|   sum(unit_price)|\n",
      "+-----------+------------------+\n",
      "|      17420| 116.4399995803833|\n",
      "|      16861| 18.72999981045723|\n",
      "|      16503|361.07999685406685|\n",
      "|      15727|  980.939994186163|\n",
      "|      17389|1273.5699914097786|\n",
      "|      15447| 28.09000015258789|\n",
      "|      14450|111.61999799311161|\n",
      "|      13623|  333.639996945858|\n",
      "|      13285|399.21999901533127|\n",
      "|      16339| 105.1499981880188|\n",
      "|      14570| 97.78999862074852|\n",
      "|      16386|145.98999929055572|\n",
      "|      18024| 58.48999959230423|\n",
      "|      12940|  411.349998742342|\n",
      "|      17679|159.26999905705452|\n",
      "|      16574| 39.91999959945679|\n",
      "|      15957|117.08999788761139|\n",
      "|      13832|10.600000023841858|\n",
      "|      15619|13.250000238418579|\n",
      "|      15790|119.84999915957451|\n",
      "+-----------+------------------+\n",
      "only showing top 20 rows\n",
      "\n",
      "+-----------+---------------+\n",
      "|customer_id|max(unit_price)|\n",
      "+-----------+---------------+\n",
      "|      17420|          19.95|\n",
      "|      16861|           4.41|\n",
      "|      16503|          16.95|\n",
      "|      15727|          125.0|\n",
      "|      17389|          12.75|\n",
      "|      15447|          12.75|\n",
      "|      14450|           5.75|\n",
      "|      13623|          14.95|\n",
      "|      13285|          16.95|\n",
      "|      16339|           7.95|\n",
      "|      14570|           9.95|\n",
      "|      16386|          12.75|\n",
      "|      18024|           9.95|\n",
      "|      12940|          19.95|\n",
      "|      17679|          39.95|\n",
      "|      16574|           7.95|\n",
      "|      15957|           9.95|\n",
      "|      13832|           3.75|\n",
      "|      15619|           7.65|\n",
      "|      15790|           9.95|\n",
      "+-----------+---------------+\n",
      "only showing top 20 rows\n",
      "\n"
     ]
    }
   ],
   "source": [
    "# Cell 7: Aggregations (GROUP BY)\n",
    "# Group by and aggregate using count, sum, avg, etc.\n",
    "df.groupBy(\"customer_id\").count().show()\n",
    "df.groupBy(\"customer_id\").sum(\"unit_price\").show()\n",
    "df.groupBy(\"customer_id\").agg({\"unit_price\": \"mean\", \"unit_price\": \"max\"}).show()\n"
   ]
  },
  {
   "cell_type": "code",
   "execution_count": 12,
   "id": "b94c3b0e-7273-4225-94ad-ca2742448f1d",
   "metadata": {
    "tags": []
   },
   "outputs": [
    {
     "name": "stdout",
     "output_type": "stream",
     "text": [
      "+----------+----------+--------------------+--------+-------------------+----------+-----------+--------------+------------+\n",
      "|invoice_no|stock_code|         description|quantity|       invoice_date|unit_price|customer_id|       country|price_status|\n",
      "+----------+----------+--------------------+--------+-------------------+----------+-----------+--------------+------------+\n",
      "|    536365|    85123A|WHITE HANGING HEA...|       6|2010-12-01 08:26:00|      2.55|      17850|United Kingdom|         Low|\n",
      "|    536365|     71053| WHITE METAL LANTERN|       6|2010-12-01 08:26:00|      3.39|      17850|United Kingdom|         Low|\n",
      "|    536365|    84406B|CREAM CUPID HEART...|       8|2010-12-01 08:26:00|      2.75|      17850|United Kingdom|         Low|\n",
      "|    536365|    84029G|KNITTED UNION FLA...|       6|2010-12-01 08:26:00|      3.39|      17850|United Kingdom|         Low|\n",
      "|    536365|    84029E|RED WOOLLY HOTTIE...|       6|2010-12-01 08:26:00|      3.39|      17850|United Kingdom|         Low|\n",
      "|    536365|     22752|SET 7 BABUSHKA NE...|       2|2010-12-01 08:26:00|      7.65|      17850|United Kingdom|        High|\n",
      "|    536365|     21730|GLASS STAR FROSTE...|       6|2010-12-01 08:26:00|      4.25|      17850|United Kingdom|         Low|\n",
      "|    536366|     22633|HAND WARMER UNION...|       6|2010-12-01 08:28:00|      1.85|      17850|United Kingdom|         Low|\n",
      "|    536366|     22632|HAND WARMER RED P...|       6|2010-12-01 08:28:00|      1.85|      17850|United Kingdom|         Low|\n",
      "|    536367|     84879|ASSORTED COLOUR B...|      32|2010-12-01 08:34:00|      1.69|      13047|United Kingdom|         Low|\n",
      "|    536367|     22745|POPPY'S PLAYHOUSE...|       6|2010-12-01 08:34:00|       2.1|      13047|United Kingdom|         Low|\n",
      "|    536367|     22748|POPPY'S PLAYHOUSE...|       6|2010-12-01 08:34:00|       2.1|      13047|United Kingdom|         Low|\n",
      "|    536367|     22749|FELTCRAFT PRINCES...|       8|2010-12-01 08:34:00|      3.75|      13047|United Kingdom|         Low|\n",
      "|    536367|     22310|IVORY KNITTED MUG...|       6|2010-12-01 08:34:00|      1.65|      13047|United Kingdom|         Low|\n",
      "|    536367|     84969|BOX OF 6 ASSORTED...|       6|2010-12-01 08:34:00|      4.25|      13047|United Kingdom|         Low|\n",
      "|    536367|     22623|BOX OF VINTAGE JI...|       3|2010-12-01 08:34:00|      4.95|      13047|United Kingdom|         Low|\n",
      "|    536367|     22622|BOX OF VINTAGE AL...|       2|2010-12-01 08:34:00|      9.95|      13047|United Kingdom|        High|\n",
      "|    536367|     21754|HOME BUILDING BLO...|       3|2010-12-01 08:34:00|      5.95|      13047|United Kingdom|         Low|\n",
      "|    536367|     21755|LOVE BUILDING BLO...|       3|2010-12-01 08:34:00|      5.95|      13047|United Kingdom|         Low|\n",
      "|    536367|     21777|RECIPE BOX WITH M...|       4|2010-12-01 08:34:00|      7.95|      13047|United Kingdom|        High|\n",
      "+----------+----------+--------------------+--------+-------------------+----------+-----------+--------------+------------+\n",
      "only showing top 20 rows\n",
      "\n"
     ]
    }
   ],
   "source": [
    "# == CASE WHEN (Conditional Statements) ==\n",
    "# Create a new column with conditional values\n",
    "df = df.withColumn(\"price_status\", when(df.unit_price > 7, \"High\").otherwise(\"Low\"))\n",
    "df.show()\n"
   ]
  },
  {
   "cell_type": "code",
   "execution_count": 13,
   "id": "def5d277-7c3d-4041-b467-37853a5c9f66",
   "metadata": {
    "tags": []
   },
   "outputs": [],
   "source": [
    "# == Handling Missing Data == \n",
    "# Drop rows with any nulls\n",
    "df = df.na.drop()\n",
    "\n",
    "# Fill nulls in a specific column with a value\n",
    "df = df.na.fill({\"description\": \"no description\", \"unit_price\": 0})\n"
   ]
  },
  {
   "cell_type": "markdown",
   "id": "f486e199",
   "metadata": {
    "tags": []
   },
   "source": [
    "## UDF"
   ]
  },
  {
   "cell_type": "code",
   "execution_count": 14,
   "id": "d49cd137-c48f-4901-a0af-8b4628e0b8d4",
   "metadata": {
    "tags": []
   },
   "outputs": [],
   "source": [
    "from pyspark.sql.functions import col, udf, pandas_udf\n",
    "from pyspark.sql.types import IntegerType\n",
    "\n",
    "# Create a sample dataframe\n",
    "df = spark.createDataFrame([(1, \"apple\"), (2, \"banana\"), (3, \"orange\"), \n",
    "                            (4, \"apple\"), (5, \"banana\"), (6, \"orange\"),\n",
    "                            (7, \"apple\"), (8, \"banana\"), (9, \"orange\"),\n",
    "                            (10, \"apple\")], [\"id\", \"fruit\"])"
   ]
  },
  {
   "cell_type": "code",
   "execution_count": 15,
   "id": "08f54db5-1de8-45d0-b25c-569ab400ad52",
   "metadata": {
    "tags": []
   },
   "outputs": [
    {
     "name": "stdout",
     "output_type": "stream",
     "text": [
      "+---+------+------+\n",
      "| id| fruit|length|\n",
      "+---+------+------+\n",
      "|  1| apple|     5|\n",
      "|  2|banana|     6|\n",
      "|  3|orange|     6|\n",
      "|  4| apple|     5|\n",
      "|  5|banana|     6|\n",
      "|  6|orange|     6|\n",
      "|  7| apple|     5|\n",
      "|  8|banana|     6|\n",
      "|  9|orange|     6|\n",
      "| 10| apple|     5|\n",
      "+---+------+------+\n",
      "\n"
     ]
    }
   ],
   "source": [
    "# Define the UDF logic\n",
    "def string_length(s):\n",
    "    return len(s)\n",
    "\n",
    "# Define the Python UDF\n",
    "string_length_udf = udf(string_length, IntegerType())\n",
    "\n",
    "# Apply the Python UDF and display the result\n",
    "df1 = df.withColumn(\"length\", string_length_udf(col(\"fruit\")))\n",
    "df1.show()"
   ]
  },
  {
   "cell_type": "code",
   "execution_count": 16,
   "id": "007cc03d-d008-421f-a75c-bfcb2cc810e6",
   "metadata": {
    "tags": []
   },
   "outputs": [
    {
     "name": "stdout",
     "output_type": "stream",
     "text": [
      "+---+------+------+\n",
      "| id| fruit|length|\n",
      "+---+------+------+\n",
      "|  1| apple|     5|\n",
      "|  2|banana|     6|\n",
      "|  3|orange|     6|\n",
      "|  4| apple|     5|\n",
      "|  5|banana|     6|\n",
      "|  6|orange|     6|\n",
      "|  7| apple|     5|\n",
      "|  8|banana|     6|\n",
      "|  9|orange|     6|\n",
      "| 10| apple|     5|\n",
      "+---+------+------+\n",
      "\n"
     ]
    }
   ],
   "source": [
    "import pandas as pd\n",
    "\n",
    "# Define the Pandas UDF\n",
    "@pandas_udf(IntegerType())\n",
    "def string_length_pandas_udf(s: pd.Series) -> pd.Series:\n",
    "    return s.str.len()\n",
    "    \n",
    "# Apply the Pandas UDF and display the result\n",
    "df2 = df.withColumn(\"length\", string_length_pandas_udf(col(\"fruit\")))\n",
    "df2.show()"
   ]
  },
  {
   "cell_type": "markdown",
   "id": "1fc1a3c4",
   "metadata": {
    "tags": []
   },
   "source": [
    "## Join"
   ]
  },
  {
   "cell_type": "code",
   "execution_count": 17,
   "id": "0ba8408e",
   "metadata": {
    "tags": []
   },
   "outputs": [],
   "source": [
    "spark.conf.set(\"spark.sql.adaptive.enabled\", \"false\")"
   ]
  },
  {
   "cell_type": "code",
   "execution_count": 18,
   "id": "5debe3b7",
   "metadata": {
    "tags": []
   },
   "outputs": [],
   "source": [
    "# define schema for purchases dataset\n",
    "purchases_schema = \"order_id int, customer_id int, product_id int, quantity int, price float\"\n",
    "\n",
    "# create purchases dataframe\n",
    "purchases_data = [\n",
    "    (101, 1, 1, 2, 19.99), # Worker 1\n",
    "    (102, 2, 2, 1, 9.99), # Worker 1\n",
    "    (103, 3, 3, 1, 15.99), # Worker 1\n",
    "    (104, 1, 4, 1, 5.99), # Worker 2\n",
    "    (105, 2, 5, 3, 12.99), # Worker 2\n",
    "    (106, 3, 6, 2, 9.99), # Worker 2\n",
    "    (107, 4, 7, 1, 11.99), # Worker 2\n",
    "    (108, 1, 8, 2, 14.99), # Worker 3\n",
    "    (109, 2, 9, 1, 9.99), # Worker 3\n",
    "    (110, 3, 10, 1, 19.99) # Worker 3\n",
    "]\n",
    "purchases_df = spark.createDataFrame(purchases_data, schema=purchases_schema)\n",
    "# 10.000 row\n",
    "\n",
    "# define schema for customers dataset\n",
    "customers_schema = \"customer_id int, name string, email string\"\n",
    "\n",
    "# create customers dataframe\n",
    "customers_data = [\n",
    "    (1, \"John Doe\", \"johndoe@example.com\"), # Worker 1\n",
    "    (2, \"Jane Smith\", \"janesmith@example.com\"), # Worker 2\n",
    "    (3, \"Bob Johnson\", \"bobjohnson@example.com\"), # Worker 3\n",
    "    (4, \"Sue Lee\", \"suelee@example.com\"), # Worker 3\n",
    "]\n",
    "\n",
    "customers_df = spark.createDataFrame(customers_data, schema=customers_schema)\n",
    "# 1000 row\n",
    "\n",
    "# define schema for products dataset\n",
    "products_schema = \"product_id int, name string, price float\"\n",
    "\n",
    "# create products dataframe\n",
    "products_data = [\n",
    "    (1, \"Product A\", 19.99),\n",
    "    (2, \"Product B\", 9.99),\n",
    "    (3, \"Product C\", 15.99),\n",
    "    (4, \"Product D\", 5.99),\n",
    "    (5, \"Product E\", 12.99),\n",
    "    (6, \"Product F\", 9.99),\n",
    "    (7, \"Product G\", 11.99),\n",
    "    (8, \"Product H\", 14.99),\n",
    "    (9, \"Product I\", 9.99),\n",
    "    (10, \"Product J\", 19.99)\n",
    "]\n",
    "products_df = spark.createDataFrame(products_data, schema=products_schema)"
   ]
  },
  {
   "cell_type": "code",
   "execution_count": 19,
   "id": "ee4acd54",
   "metadata": {
    "tags": []
   },
   "outputs": [],
   "source": [
    "\n",
    "# set join preferences\n",
    "spark.conf.set(\"spark.sql.join.preferSortMergeJoin\", \"true\")\n",
    "spark.conf.set(\"spark.sql.autoBroadcastJoinThreshold\", \"-1\")\n",
    "\n",
    "# perform sort merge join\n",
    "merged_df = (\n",
    "    purchases_df\n",
    "    .join(customers_df, \"customer_id\")\n",
    "    .join(products_df, \"product_id\")\n",
    ")"
   ]
  },
  {
   "cell_type": "code",
   "execution_count": 20,
   "id": "4843cfad-0947-4533-b79e-11c933490907",
   "metadata": {
    "tags": []
   },
   "outputs": [
    {
     "name": "stdout",
     "output_type": "stream",
     "text": [
      "+----------+-----------+--------+--------+-----+-----------+--------------------+---------+-----+\n",
      "|product_id|customer_id|order_id|quantity|price|       name|               email|     name|price|\n",
      "+----------+-----------+--------+--------+-----+-----------+--------------------+---------+-----+\n",
      "|         1|          1|     101|       2|19.99|   John Doe| johndoe@example.com|Product A|19.99|\n",
      "|         6|          3|     106|       2| 9.99|Bob Johnson|bobjohnson@exampl...|Product F| 9.99|\n",
      "|         3|          3|     103|       1|15.99|Bob Johnson|bobjohnson@exampl...|Product C|15.99|\n",
      "|         5|          2|     105|       3|12.99| Jane Smith|janesmith@example...|Product E|12.99|\n",
      "|         9|          2|     109|       1| 9.99| Jane Smith|janesmith@example...|Product I| 9.99|\n",
      "|         4|          1|     104|       1| 5.99|   John Doe| johndoe@example.com|Product D| 5.99|\n",
      "|         8|          1|     108|       2|14.99|   John Doe| johndoe@example.com|Product H|14.99|\n",
      "|         7|          4|     107|       1|11.99|    Sue Lee|  suelee@example.com|Product G|11.99|\n",
      "|        10|          3|     110|       1|19.99|Bob Johnson|bobjohnson@exampl...|Product J|19.99|\n",
      "|         2|          2|     102|       1| 9.99| Jane Smith|janesmith@example...|Product B| 9.99|\n",
      "+----------+-----------+--------+--------+-----+-----------+--------------------+---------+-----+\n",
      "\n"
     ]
    }
   ],
   "source": [
    "merged_df.show()"
   ]
  },
  {
   "cell_type": "code",
   "execution_count": 21,
   "id": "4da946f4-663f-42a6-a0f6-5d59e8ba6666",
   "metadata": {
    "tags": []
   },
   "outputs": [
    {
     "name": "stdout",
     "output_type": "stream",
     "text": [
      "+----------+-----------+--------+--------+-----+-----------+--------------------+---------+-----+\n",
      "|product_id|customer_id|order_id|quantity|price|       name|               email|     name|price|\n",
      "+----------+-----------+--------+--------+-----+-----------+--------------------+---------+-----+\n",
      "|         1|          1|     101|       2|19.99|   John Doe| johndoe@example.com|Product A|19.99|\n",
      "|         6|          3|     106|       2| 9.99|Bob Johnson|bobjohnson@exampl...|Product F| 9.99|\n",
      "|         3|          3|     103|       1|15.99|Bob Johnson|bobjohnson@exampl...|Product C|15.99|\n",
      "|         5|          2|     105|       3|12.99| Jane Smith|janesmith@example...|Product E|12.99|\n",
      "|         9|          2|     109|       1| 9.99| Jane Smith|janesmith@example...|Product I| 9.99|\n",
      "|         4|          1|     104|       1| 5.99|   John Doe| johndoe@example.com|Product D| 5.99|\n",
      "|         8|          1|     108|       2|14.99|   John Doe| johndoe@example.com|Product H|14.99|\n",
      "|         7|          4|     107|       1|11.99|    Sue Lee|  suelee@example.com|Product G|11.99|\n",
      "|        10|          3|     110|       1|19.99|Bob Johnson|bobjohnson@exampl...|Product J|19.99|\n",
      "|         2|          2|     102|       1| 9.99| Jane Smith|janesmith@example...|Product B| 9.99|\n",
      "+----------+-----------+--------+--------+-----+-----------+--------------------+---------+-----+\n",
      "\n"
     ]
    }
   ],
   "source": [
    "merged_df.show()"
   ]
  },
  {
   "cell_type": "code",
   "execution_count": 22,
   "id": "7a3fc643",
   "metadata": {
    "tags": []
   },
   "outputs": [
    {
     "name": "stdout",
     "output_type": "stream",
     "text": [
      "+----------+-----------+--------+--------+-----+-----------+--------------------+---------+-----+\n",
      "|product_id|customer_id|order_id|quantity|price|       name|               email|     name|price|\n",
      "+----------+-----------+--------+--------+-----+-----------+--------------------+---------+-----+\n",
      "|         1|          1|     101|       2|19.99|   John Doe| johndoe@example.com|Product A|19.99|\n",
      "|         2|          2|     102|       1| 9.99| Jane Smith|janesmith@example...|Product B| 9.99|\n",
      "|         3|          3|     103|       1|15.99|Bob Johnson|bobjohnson@exampl...|Product C|15.99|\n",
      "|         4|          1|     104|       1| 5.99|   John Doe| johndoe@example.com|Product D| 5.99|\n",
      "|         5|          2|     105|       3|12.99| Jane Smith|janesmith@example...|Product E|12.99|\n",
      "+----------+-----------+--------+--------+-----+-----------+--------------------+---------+-----+\n",
      "only showing top 5 rows\n",
      "\n"
     ]
    }
   ],
   "source": [
    "from pyspark.sql.functions import broadcast\n",
    "\n",
    "# set join preferences\n",
    "spark.conf.set(\"spark.sql.join.preferSortMergeJoin\", \"false\")\n",
    "spark.conf.set(\"spark.sql.autoBroadcastJoinThreshold\", \"1000000000\")\n",
    "\n",
    "# perform broadcast hash join\n",
    "broadcast_df = purchases_df.join(broadcast(customers_df), \"customer_id\").join(broadcast(products_df), \"product_id\")\n",
    "broadcast_df.show(5)"
   ]
  },
  {
   "cell_type": "code",
   "execution_count": 23,
   "id": "ee11a5e4-5b22-4869-9350-fa86a4dc73e5",
   "metadata": {
    "tags": []
   },
   "outputs": [
    {
     "name": "stdout",
     "output_type": "stream",
     "text": [
      "+----------+-----------+--------+--------+-----+--------+-------------------+---------+-----+\n",
      "|product_id|customer_id|order_id|quantity|price|    name|              email|     name|price|\n",
      "+----------+-----------+--------+--------+-----+--------+-------------------+---------+-----+\n",
      "|         1|          1|     101|       2|19.99|John Doe|johndoe@example.com|Product A|19.99|\n",
      "+----------+-----------+--------+--------+-----+--------+-------------------+---------+-----+\n",
      "only showing top 1 row\n",
      "\n"
     ]
    }
   ],
   "source": [
    "broadcast_df.show(1)"
   ]
  },
  {
   "cell_type": "markdown",
   "id": "1c4e7b6f",
   "metadata": {
    "tags": []
   },
   "source": [
    "## Cache & Persist"
   ]
  },
  {
   "cell_type": "code",
   "execution_count": 24,
   "id": "6d34ddc9",
   "metadata": {
    "tags": []
   },
   "outputs": [
    {
     "name": "stdout",
     "output_type": "stream",
     "text": [
      "+----------+-----------+--------+--------+-----+-----------+--------------------+---------+-----+\n",
      "|product_id|customer_id|order_id|quantity|price|       name|               email|     name|price|\n",
      "+----------+-----------+--------+--------+-----+-----------+--------------------+---------+-----+\n",
      "|         1|          1|     101|       2|19.99|   John Doe| johndoe@example.com|Product A|19.99|\n",
      "|         2|          2|     102|       1| 9.99| Jane Smith|janesmith@example...|Product B| 9.99|\n",
      "|         3|          3|     103|       1|15.99|Bob Johnson|bobjohnson@exampl...|Product C|15.99|\n",
      "|         4|          1|     104|       1| 5.99|   John Doe| johndoe@example.com|Product D| 5.99|\n",
      "|         5|          2|     105|       3|12.99| Jane Smith|janesmith@example...|Product E|12.99|\n",
      "|         6|          3|     106|       2| 9.99|Bob Johnson|bobjohnson@exampl...|Product F| 9.99|\n",
      "|         7|          4|     107|       1|11.99|    Sue Lee|  suelee@example.com|Product G|11.99|\n",
      "|         8|          1|     108|       2|14.99|   John Doe| johndoe@example.com|Product H|14.99|\n",
      "|         9|          2|     109|       1| 9.99| Jane Smith|janesmith@example...|Product I| 9.99|\n",
      "|        10|          3|     110|       1|19.99|Bob Johnson|bobjohnson@exampl...|Product J|19.99|\n",
      "+----------+-----------+--------+--------+-----+-----------+--------------------+---------+-----+\n",
      "\n"
     ]
    }
   ],
   "source": [
    "broadcast_df.show()"
   ]
  },
  {
   "cell_type": "code",
   "execution_count": 25,
   "id": "29762444",
   "metadata": {
    "tags": []
   },
   "outputs": [
    {
     "data": {
      "text/plain": [
       "DataFrame[product_id: int, customer_id: int, order_id: int, quantity: int, price: float, name: string, email: string, name: string, price: float]"
      ]
     },
     "execution_count": 25,
     "metadata": {},
     "output_type": "execute_result"
    }
   ],
   "source": [
    "# cache the purchases DataFrame\n",
    "# broadcast_df.cache()\n",
    "broadcast_df.unpersist()"
   ]
  },
  {
   "cell_type": "code",
   "execution_count": 26,
   "id": "c5362722",
   "metadata": {
    "tags": []
   },
   "outputs": [],
   "source": [
    "from pyspark.sql.functions import col\n",
    "\n",
    "# calculate the total purchase amount for each store using the cached DataFrame\n",
    "store_purchase_totals = (\n",
    "    purchases_df\n",
    "    .withColumn(\"total_price\",col(\"quantity\")*col(\"price\"))\n",
    "    .groupBy(\"customer_id\")\n",
    "    .agg({\"total_price\":\"sum\"}).alias(\"total_purchase_amount\")\n",
    ")"
   ]
  },
  {
   "cell_type": "code",
   "execution_count": 27,
   "id": "d393ce0b",
   "metadata": {
    "tags": []
   },
   "outputs": [
    {
     "data": {
      "text/plain": [
       "DataFrame[customer_id: int, sum(total_price): double]"
      ]
     },
     "execution_count": 27,
     "metadata": {},
     "output_type": "execute_result"
    }
   ],
   "source": [
    "# persist the store_purchase_totals DataFrame to disk\n",
    "# store_purchase_totals.persist(pyspark.StorageLevel.DISK_ONLY)\n",
    "store_purchase_totals.persist(pyspark.StorageLevel.MEMORY_ONLY)\n"
   ]
  },
  {
   "cell_type": "code",
   "execution_count": 28,
   "id": "3cd6c04e",
   "metadata": {
    "tags": []
   },
   "outputs": [
    {
     "name": "stdout",
     "output_type": "stream",
     "text": [
      "+-----------+------------------+\n",
      "|customer_id|  sum(total_price)|\n",
      "+-----------+------------------+\n",
      "|          1| 75.94999885559082|\n",
      "|          3|55.959999084472656|\n",
      "|          4|11.989999771118164|\n",
      "|          2| 58.95000076293945|\n",
      "+-----------+------------------+\n",
      "\n"
     ]
    }
   ],
   "source": [
    "# print the results\n",
    "store_purchase_totals.show()"
   ]
  },
  {
   "cell_type": "code",
   "execution_count": 29,
   "id": "a61f1045-5d26-483c-b305-6afbbf81eda7",
   "metadata": {
    "tags": []
   },
   "outputs": [
    {
     "name": "stdout",
     "output_type": "stream",
     "text": [
      "+-----------+------------------+\n",
      "|customer_id|  sum(total_price)|\n",
      "+-----------+------------------+\n",
      "|          1| 75.94999885559082|\n",
      "|          3|55.959999084472656|\n",
      "|          4|11.989999771118164|\n",
      "|          2| 58.95000076293945|\n",
      "+-----------+------------------+\n",
      "\n"
     ]
    }
   ],
   "source": [
    "# print the results\n",
    "store_purchase_totals.show()"
   ]
  },
  {
   "cell_type": "code",
   "execution_count": 30,
   "id": "1a7311ae",
   "metadata": {
    "tags": []
   },
   "outputs": [
    {
     "data": {
      "text/plain": [
       "DataFrame[customer_id: int, sum(total_price): double]"
      ]
     },
     "execution_count": 30,
     "metadata": {},
     "output_type": "execute_result"
    }
   ],
   "source": [
    "# unpersist the store_purchase_totals DataFrame to free up memory\n",
    "store_purchase_totals.unpersist()"
   ]
  },
  {
   "cell_type": "markdown",
   "id": "32239315",
   "metadata": {},
   "source": [
    "Balik lagi ke collab"
   ]
  },
  {
   "cell_type": "markdown",
   "id": "07bb0765-642a-4bda-97ed-508cc1ae491a",
   "metadata": {
    "tags": []
   },
   "source": [
    "# JDBC"
   ]
  },
  {
   "cell_type": "code",
   "execution_count": 31,
   "id": "b9a81123-e2db-455a-a118-62ab7c9a9dd6",
   "metadata": {
    "tags": []
   },
   "outputs": [],
   "source": [
    "jdbc_url = f'jdbc:postgresql://{postgres_host}/{postgres_dw_db}'\n",
    "jdbc_properties = {\n",
    "    'user': postgres_user,\n",
    "    'password': postgres_password,\n",
    "    'driver': 'org.postgresql.Driver',\n",
    "    'stringtype': 'unspecified'\n",
    "}"
   ]
  },
  {
   "cell_type": "code",
   "execution_count": 32,
   "id": "75f7b87d-7135-4cde-875e-961fae293f21",
   "metadata": {
    "tags": []
   },
   "outputs": [
    {
     "ename": "Py4JJavaError",
     "evalue": "An error occurred while calling o243.jdbc.\n: org.postgresql.util.PSQLException: ERROR: relation \"public.retail\" does not exist\n  Position: 15\n\tat org.postgresql.core.v3.QueryExecutorImpl.receiveErrorResponse(QueryExecutorImpl.java:2553)\n\tat org.postgresql.core.v3.QueryExecutorImpl.processResults(QueryExecutorImpl.java:2285)\n\tat org.postgresql.core.v3.QueryExecutorImpl.execute(QueryExecutorImpl.java:323)\n\tat org.postgresql.jdbc.PgStatement.executeInternal(PgStatement.java:473)\n\tat org.postgresql.jdbc.PgStatement.execute(PgStatement.java:393)\n\tat org.postgresql.jdbc.PgPreparedStatement.executeWithFlags(PgPreparedStatement.java:164)\n\tat org.postgresql.jdbc.PgPreparedStatement.executeQuery(PgPreparedStatement.java:114)\n\tat org.apache.spark.sql.execution.datasources.jdbc.JDBCRDD$.getQueryOutputSchema(JDBCRDD.scala:68)\n\tat org.apache.spark.sql.execution.datasources.jdbc.JDBCRDD$.resolveTable(JDBCRDD.scala:58)\n\tat org.apache.spark.sql.execution.datasources.jdbc.JDBCRelation$.getSchema(JDBCRelation.scala:242)\n\tat org.apache.spark.sql.execution.datasources.jdbc.JdbcRelationProvider.createRelation(JdbcRelationProvider.scala:37)\n\tat org.apache.spark.sql.execution.datasources.DataSource.resolveRelation(DataSource.scala:350)\n\tat org.apache.spark.sql.DataFrameReader.loadV1Source(DataFrameReader.scala:228)\n\tat org.apache.spark.sql.DataFrameReader.$anonfun$load$2(DataFrameReader.scala:210)\n\tat scala.Option.getOrElse(Option.scala:189)\n\tat org.apache.spark.sql.DataFrameReader.load(DataFrameReader.scala:210)\n\tat org.apache.spark.sql.DataFrameReader.load(DataFrameReader.scala:171)\n\tat org.apache.spark.sql.DataFrameReader.jdbc(DataFrameReader.scala:248)\n\tat java.base/jdk.internal.reflect.NativeMethodAccessorImpl.invoke0(Native Method)\n\tat java.base/jdk.internal.reflect.NativeMethodAccessorImpl.invoke(NativeMethodAccessorImpl.java:77)\n\tat java.base/jdk.internal.reflect.DelegatingMethodAccessorImpl.invoke(DelegatingMethodAccessorImpl.java:43)\n\tat java.base/java.lang.reflect.Method.invoke(Method.java:568)\n\tat py4j.reflection.MethodInvoker.invoke(MethodInvoker.java:244)\n\tat py4j.reflection.ReflectionEngine.invoke(ReflectionEngine.java:357)\n\tat py4j.Gateway.invoke(Gateway.java:282)\n\tat py4j.commands.AbstractCommand.invokeMethod(AbstractCommand.java:132)\n\tat py4j.commands.CallCommand.execute(CallCommand.java:79)\n\tat py4j.ClientServerConnection.waitForCommands(ClientServerConnection.java:182)\n\tat py4j.ClientServerConnection.run(ClientServerConnection.java:106)\n\tat java.base/java.lang.Thread.run(Thread.java:833)\n",
     "output_type": "error",
     "traceback": [
      "\u001b[0;31m---------------------------------------------------------------------------\u001b[0m",
      "\u001b[0;31mPy4JJavaError\u001b[0m                             Traceback (most recent call last)",
      "Cell \u001b[0;32mIn[32], line 1\u001b[0m\n\u001b[0;32m----> 1\u001b[0m retail_df \u001b[38;5;241m=\u001b[39m \u001b[43mspark\u001b[49m\u001b[38;5;241;43m.\u001b[39;49m\u001b[43mread\u001b[49m\u001b[38;5;241;43m.\u001b[39;49m\u001b[43mjdbc\u001b[49m\u001b[43m(\u001b[49m\n\u001b[1;32m      2\u001b[0m \u001b[43m    \u001b[49m\u001b[43mjdbc_url\u001b[49m\u001b[43m,\u001b[49m\n\u001b[1;32m      3\u001b[0m \u001b[43m    \u001b[49m\u001b[38;5;124;43m'\u001b[39;49m\u001b[38;5;124;43mpublic.retail\u001b[39;49m\u001b[38;5;124;43m'\u001b[39;49m\u001b[43m,\u001b[49m\n\u001b[1;32m      4\u001b[0m \u001b[43m    \u001b[49m\u001b[43mproperties\u001b[49m\u001b[38;5;241;43m=\u001b[39;49m\u001b[43mjdbc_properties\u001b[49m\n\u001b[1;32m      5\u001b[0m \u001b[43m)\u001b[49m\n",
      "File \u001b[0;32m/usr/local/spark/python/pyspark/sql/readwriter.py:716\u001b[0m, in \u001b[0;36mDataFrameReader.jdbc\u001b[0;34m(self, url, table, column, lowerBound, upperBound, numPartitions, predicates, properties)\u001b[0m\n\u001b[1;32m    714\u001b[0m     jpredicates \u001b[38;5;241m=\u001b[39m utils\u001b[38;5;241m.\u001b[39mtoJArray(gateway, gateway\u001b[38;5;241m.\u001b[39mjvm\u001b[38;5;241m.\u001b[39mjava\u001b[38;5;241m.\u001b[39mlang\u001b[38;5;241m.\u001b[39mString, predicates)\n\u001b[1;32m    715\u001b[0m     \u001b[38;5;28;01mreturn\u001b[39;00m \u001b[38;5;28mself\u001b[39m\u001b[38;5;241m.\u001b[39m_df(\u001b[38;5;28mself\u001b[39m\u001b[38;5;241m.\u001b[39m_jreader\u001b[38;5;241m.\u001b[39mjdbc(url, table, jpredicates, jprop))\n\u001b[0;32m--> 716\u001b[0m \u001b[38;5;28;01mreturn\u001b[39;00m \u001b[38;5;28mself\u001b[39m\u001b[38;5;241m.\u001b[39m_df(\u001b[38;5;28;43mself\u001b[39;49m\u001b[38;5;241;43m.\u001b[39;49m\u001b[43m_jreader\u001b[49m\u001b[38;5;241;43m.\u001b[39;49m\u001b[43mjdbc\u001b[49m\u001b[43m(\u001b[49m\u001b[43murl\u001b[49m\u001b[43m,\u001b[49m\u001b[43m \u001b[49m\u001b[43mtable\u001b[49m\u001b[43m,\u001b[49m\u001b[43m \u001b[49m\u001b[43mjprop\u001b[49m\u001b[43m)\u001b[49m)\n",
      "File \u001b[0;32m/usr/local/spark/python/lib/py4j-0.10.9.5-src.zip/py4j/java_gateway.py:1321\u001b[0m, in \u001b[0;36mJavaMember.__call__\u001b[0;34m(self, *args)\u001b[0m\n\u001b[1;32m   1315\u001b[0m command \u001b[38;5;241m=\u001b[39m proto\u001b[38;5;241m.\u001b[39mCALL_COMMAND_NAME \u001b[38;5;241m+\u001b[39m\\\n\u001b[1;32m   1316\u001b[0m     \u001b[38;5;28mself\u001b[39m\u001b[38;5;241m.\u001b[39mcommand_header \u001b[38;5;241m+\u001b[39m\\\n\u001b[1;32m   1317\u001b[0m     args_command \u001b[38;5;241m+\u001b[39m\\\n\u001b[1;32m   1318\u001b[0m     proto\u001b[38;5;241m.\u001b[39mEND_COMMAND_PART\n\u001b[1;32m   1320\u001b[0m answer \u001b[38;5;241m=\u001b[39m \u001b[38;5;28mself\u001b[39m\u001b[38;5;241m.\u001b[39mgateway_client\u001b[38;5;241m.\u001b[39msend_command(command)\n\u001b[0;32m-> 1321\u001b[0m return_value \u001b[38;5;241m=\u001b[39m \u001b[43mget_return_value\u001b[49m\u001b[43m(\u001b[49m\n\u001b[1;32m   1322\u001b[0m \u001b[43m    \u001b[49m\u001b[43manswer\u001b[49m\u001b[43m,\u001b[49m\u001b[43m \u001b[49m\u001b[38;5;28;43mself\u001b[39;49m\u001b[38;5;241;43m.\u001b[39;49m\u001b[43mgateway_client\u001b[49m\u001b[43m,\u001b[49m\u001b[43m \u001b[49m\u001b[38;5;28;43mself\u001b[39;49m\u001b[38;5;241;43m.\u001b[39;49m\u001b[43mtarget_id\u001b[49m\u001b[43m,\u001b[49m\u001b[43m \u001b[49m\u001b[38;5;28;43mself\u001b[39;49m\u001b[38;5;241;43m.\u001b[39;49m\u001b[43mname\u001b[49m\u001b[43m)\u001b[49m\n\u001b[1;32m   1324\u001b[0m \u001b[38;5;28;01mfor\u001b[39;00m temp_arg \u001b[38;5;129;01min\u001b[39;00m temp_args:\n\u001b[1;32m   1325\u001b[0m     temp_arg\u001b[38;5;241m.\u001b[39m_detach()\n",
      "File \u001b[0;32m/usr/local/spark/python/pyspark/sql/utils.py:190\u001b[0m, in \u001b[0;36mcapture_sql_exception.<locals>.deco\u001b[0;34m(*a, **kw)\u001b[0m\n\u001b[1;32m    188\u001b[0m \u001b[38;5;28;01mdef\u001b[39;00m \u001b[38;5;21mdeco\u001b[39m(\u001b[38;5;241m*\u001b[39ma: Any, \u001b[38;5;241m*\u001b[39m\u001b[38;5;241m*\u001b[39mkw: Any) \u001b[38;5;241m-\u001b[39m\u001b[38;5;241m>\u001b[39m Any:\n\u001b[1;32m    189\u001b[0m     \u001b[38;5;28;01mtry\u001b[39;00m:\n\u001b[0;32m--> 190\u001b[0m         \u001b[38;5;28;01mreturn\u001b[39;00m \u001b[43mf\u001b[49m\u001b[43m(\u001b[49m\u001b[38;5;241;43m*\u001b[39;49m\u001b[43ma\u001b[49m\u001b[43m,\u001b[49m\u001b[43m \u001b[49m\u001b[38;5;241;43m*\u001b[39;49m\u001b[38;5;241;43m*\u001b[39;49m\u001b[43mkw\u001b[49m\u001b[43m)\u001b[49m\n\u001b[1;32m    191\u001b[0m     \u001b[38;5;28;01mexcept\u001b[39;00m Py4JJavaError \u001b[38;5;28;01mas\u001b[39;00m e:\n\u001b[1;32m    192\u001b[0m         converted \u001b[38;5;241m=\u001b[39m convert_exception(e\u001b[38;5;241m.\u001b[39mjava_exception)\n",
      "File \u001b[0;32m/usr/local/spark/python/lib/py4j-0.10.9.5-src.zip/py4j/protocol.py:326\u001b[0m, in \u001b[0;36mget_return_value\u001b[0;34m(answer, gateway_client, target_id, name)\u001b[0m\n\u001b[1;32m    324\u001b[0m value \u001b[38;5;241m=\u001b[39m OUTPUT_CONVERTER[\u001b[38;5;28mtype\u001b[39m](answer[\u001b[38;5;241m2\u001b[39m:], gateway_client)\n\u001b[1;32m    325\u001b[0m \u001b[38;5;28;01mif\u001b[39;00m answer[\u001b[38;5;241m1\u001b[39m] \u001b[38;5;241m==\u001b[39m REFERENCE_TYPE:\n\u001b[0;32m--> 326\u001b[0m     \u001b[38;5;28;01mraise\u001b[39;00m Py4JJavaError(\n\u001b[1;32m    327\u001b[0m         \u001b[38;5;124m\"\u001b[39m\u001b[38;5;124mAn error occurred while calling \u001b[39m\u001b[38;5;132;01m{0}\u001b[39;00m\u001b[38;5;132;01m{1}\u001b[39;00m\u001b[38;5;132;01m{2}\u001b[39;00m\u001b[38;5;124m.\u001b[39m\u001b[38;5;130;01m\\n\u001b[39;00m\u001b[38;5;124m\"\u001b[39m\u001b[38;5;241m.\u001b[39m\n\u001b[1;32m    328\u001b[0m         \u001b[38;5;28mformat\u001b[39m(target_id, \u001b[38;5;124m\"\u001b[39m\u001b[38;5;124m.\u001b[39m\u001b[38;5;124m\"\u001b[39m, name), value)\n\u001b[1;32m    329\u001b[0m \u001b[38;5;28;01melse\u001b[39;00m:\n\u001b[1;32m    330\u001b[0m     \u001b[38;5;28;01mraise\u001b[39;00m Py4JError(\n\u001b[1;32m    331\u001b[0m         \u001b[38;5;124m\"\u001b[39m\u001b[38;5;124mAn error occurred while calling \u001b[39m\u001b[38;5;132;01m{0}\u001b[39;00m\u001b[38;5;132;01m{1}\u001b[39;00m\u001b[38;5;132;01m{2}\u001b[39;00m\u001b[38;5;124m. Trace:\u001b[39m\u001b[38;5;130;01m\\n\u001b[39;00m\u001b[38;5;132;01m{3}\u001b[39;00m\u001b[38;5;130;01m\\n\u001b[39;00m\u001b[38;5;124m\"\u001b[39m\u001b[38;5;241m.\u001b[39m\n\u001b[1;32m    332\u001b[0m         \u001b[38;5;28mformat\u001b[39m(target_id, \u001b[38;5;124m\"\u001b[39m\u001b[38;5;124m.\u001b[39m\u001b[38;5;124m\"\u001b[39m, name, value))\n",
      "\u001b[0;31mPy4JJavaError\u001b[0m: An error occurred while calling o243.jdbc.\n: org.postgresql.util.PSQLException: ERROR: relation \"public.retail\" does not exist\n  Position: 15\n\tat org.postgresql.core.v3.QueryExecutorImpl.receiveErrorResponse(QueryExecutorImpl.java:2553)\n\tat org.postgresql.core.v3.QueryExecutorImpl.processResults(QueryExecutorImpl.java:2285)\n\tat org.postgresql.core.v3.QueryExecutorImpl.execute(QueryExecutorImpl.java:323)\n\tat org.postgresql.jdbc.PgStatement.executeInternal(PgStatement.java:473)\n\tat org.postgresql.jdbc.PgStatement.execute(PgStatement.java:393)\n\tat org.postgresql.jdbc.PgPreparedStatement.executeWithFlags(PgPreparedStatement.java:164)\n\tat org.postgresql.jdbc.PgPreparedStatement.executeQuery(PgPreparedStatement.java:114)\n\tat org.apache.spark.sql.execution.datasources.jdbc.JDBCRDD$.getQueryOutputSchema(JDBCRDD.scala:68)\n\tat org.apache.spark.sql.execution.datasources.jdbc.JDBCRDD$.resolveTable(JDBCRDD.scala:58)\n\tat org.apache.spark.sql.execution.datasources.jdbc.JDBCRelation$.getSchema(JDBCRelation.scala:242)\n\tat org.apache.spark.sql.execution.datasources.jdbc.JdbcRelationProvider.createRelation(JdbcRelationProvider.scala:37)\n\tat org.apache.spark.sql.execution.datasources.DataSource.resolveRelation(DataSource.scala:350)\n\tat org.apache.spark.sql.DataFrameReader.loadV1Source(DataFrameReader.scala:228)\n\tat org.apache.spark.sql.DataFrameReader.$anonfun$load$2(DataFrameReader.scala:210)\n\tat scala.Option.getOrElse(Option.scala:189)\n\tat org.apache.spark.sql.DataFrameReader.load(DataFrameReader.scala:210)\n\tat org.apache.spark.sql.DataFrameReader.load(DataFrameReader.scala:171)\n\tat org.apache.spark.sql.DataFrameReader.jdbc(DataFrameReader.scala:248)\n\tat java.base/jdk.internal.reflect.NativeMethodAccessorImpl.invoke0(Native Method)\n\tat java.base/jdk.internal.reflect.NativeMethodAccessorImpl.invoke(NativeMethodAccessorImpl.java:77)\n\tat java.base/jdk.internal.reflect.DelegatingMethodAccessorImpl.invoke(DelegatingMethodAccessorImpl.java:43)\n\tat java.base/java.lang.reflect.Method.invoke(Method.java:568)\n\tat py4j.reflection.MethodInvoker.invoke(MethodInvoker.java:244)\n\tat py4j.reflection.ReflectionEngine.invoke(ReflectionEngine.java:357)\n\tat py4j.Gateway.invoke(Gateway.java:282)\n\tat py4j.commands.AbstractCommand.invokeMethod(AbstractCommand.java:132)\n\tat py4j.commands.CallCommand.execute(CallCommand.java:79)\n\tat py4j.ClientServerConnection.waitForCommands(ClientServerConnection.java:182)\n\tat py4j.ClientServerConnection.run(ClientServerConnection.java:106)\n\tat java.base/java.lang.Thread.run(Thread.java:833)\n"
     ]
    }
   ],
   "source": [
    "retail_df = spark.read.jdbc(\n",
    "    jdbc_url,\n",
    "    'public.retail',\n",
    "    properties=jdbc_properties\n",
    ")"
   ]
  },
  {
   "cell_type": "code",
   "execution_count": null,
   "id": "58e2aafe-7bd5-42e4-81dd-38122bc3cf1c",
   "metadata": {
    "tags": []
   },
   "outputs": [],
   "source": [
    "retail_df.show(5)"
   ]
  },
  {
   "cell_type": "code",
   "execution_count": null,
   "id": "02307c9f-e3ae-43b5-bb8e-aa6a8ca768bd",
   "metadata": {
    "tags": []
   },
   "outputs": [],
   "source": [
    "(\n",
    "    retail_df\n",
    "    .limit(10)\n",
    "    .write\n",
    "    .mode(\"append\")\n",
    "    .option(\"truncate\", \"true\")\n",
    "    .jdbc(\n",
    "        jdbc_url,\n",
    "        'public.sample_retail',\n",
    "        properties=jdbc_properties\n",
    "    )\n",
    ")"
   ]
  },
  {
   "cell_type": "code",
   "execution_count": null,
   "id": "7de5aefb-ad88-4642-94fd-b58b825ae74c",
   "metadata": {
    "tags": []
   },
   "outputs": [],
   "source": [
    "(\n",
    "    spark\n",
    "    .read\n",
    "    .jdbc(\n",
    "        jdbc_url,\n",
    "        'public.sample_retail',\n",
    "        properties=jdbc_properties\n",
    "    )\n",
    "    .show()\n",
    ")"
   ]
  },
  {
   "cell_type": "markdown",
   "id": "098c0391-bc7b-413b-b622-b743d0c151fa",
   "metadata": {},
   "source": [
    "# Check data"
   ]
  },
  {
   "cell_type": "code",
   "execution_count": 19,
   "id": "5ca54335-472d-4c9f-9500-3040b08905de",
   "metadata": {
    "tags": []
   },
   "outputs": [],
   "source": [
    "from pyspark.sql.types import *\n",
    "\n",
    "# Define schema\n",
    "schema_1 = StructType([\n",
    "    StructField(\"customer_id\", StringType(), True),\n",
    "    StructField(\"customer_unique_id\", StringType(), True),\n",
    "    StructField(\"customer_zip_code_prefix\", StringType(), True),\n",
    "    StructField(\"customer_city\", StringType(), True),\n",
    "    StructField(\"customer_state\", StringType(), True)\n",
    "])\n",
    "\n",
    "# Schema 2\n",
    "schema_2 = StructType([\n",
    "    StructField(\"geolocation_zip_code_prefix\", StringType(), True),\n",
    "    StructField(\"geolocation_lat\", StringType(), True),\n",
    "    StructField(\"geolocation_lng\", StringType(), True),\n",
    "    StructField(\"geolocation_city\", StringType(), True),\n",
    "    StructField(\"geolocation_state\", StringType(), True)\n",
    "])\n",
    "\n",
    "# Schema 3\n",
    "schema_3 = StructType([\n",
    "    StructField(\"order_id\", StringType(), True),\n",
    "    StructField(\"order_item_id\", StringType(), True),\n",
    "    StructField(\"product_id\", StringType(), True),\n",
    "    StructField(\"seller_id\", StringType(), True),\n",
    "    StructField(\"shipping_limit_date\", TimestampType(), True),\n",
    "    StructField(\"price\", DoubleType(), True),\n",
    "    StructField(\"freight_value\", DoubleType(), True)\n",
    "])\n",
    "\n",
    "# Schema 4\n",
    "schema_4 = StructType([\n",
    "    StructField(\"order_id\", StringType(), True),\n",
    "    StructField(\"payment_sequential\", StringType(), True),\n",
    "    StructField(\"payment_type\", StringType(), True),\n",
    "    StructField(\"payment_installments\", IntegerType(), True),\n",
    "    StructField(\"payment_value\", DoubleType(), True)\n",
    "])\n",
    "\n",
    "# Schema 5\n",
    "schema_5 = StructType([\n",
    "    StructField(\"review_id\", StringType(), True),\n",
    "    StructField(\"order_id\", StringType(), True),\n",
    "    StructField(\"review_score\", IntegerType(), True),\n",
    "    StructField(\"review_comment_title\", StringType(), True),\n",
    "    StructField(\"review_comment_message\", StringType(), True),\n",
    "    StructField(\"review_creation_date\", TimestampType(), True),\n",
    "    StructField(\"review_answer_timestamp\", TimestampType(), True)\n",
    "])\n",
    "\n",
    "# Schema 6\n",
    "schema_6 = StructType([\n",
    "    StructField(\"order_id\", StringType(), True),\n",
    "    StructField(\"customer_id\", StringType(), True),\n",
    "    StructField(\"order_status\", StringType(), True),\n",
    "    StructField(\"order_purchase_timestamp\", TimestampType(), True),\n",
    "    StructField(\"order_approved_at\", TimestampType(), True),\n",
    "    StructField(\"order_delivered_carrier_date\", TimestampType(), True),\n",
    "    StructField(\"order_delivered_customer_date\", TimestampType(), True),\n",
    "    StructField(\"order_estimated_delivery_date\", TimestampType(), True)\n",
    "])\n",
    "\n",
    "# Schema 7\n",
    "schema_7 = StructType([\n",
    "    StructField(\"product_id\", StringType(), True),\n",
    "    StructField(\"product_category_name\", StringType(), True),\n",
    "    StructField(\"product_name_lenght\", IntegerType(), True),\n",
    "    StructField(\"product_description_lenght\", IntegerType(), True),\n",
    "    StructField(\"product_photos_qty\", IntegerType(), True),\n",
    "    StructField(\"product_weight_g\", IntegerType(), True),\n",
    "    StructField(\"product_length_cm\", IntegerType(), True),\n",
    "    StructField(\"product_height_cm\", IntegerType(), True),\n",
    "    StructField(\"product_width_cm\", IntegerType(), True)\n",
    "])\n",
    "\n",
    "# Schema 8\n",
    "schema_8 = StructType([\n",
    "    StructField(\"seller_id\", StringType(), True),\n",
    "    StructField(\"seller_zip_code_prefix\", StringType(), True),\n",
    "    StructField(\"seller_city\", StringType(), True),\n",
    "    StructField(\"seller_state\", StringType(), True)\n",
    "])\n",
    "\n",
    "# Schema 9\n",
    "schema_9 = StructType([\n",
    "    StructField(\"product_category_name\", StringType(), True),\n",
    "    StructField(\"product_category_name_english\", StringType(), True)\n",
    "])\n"
   ]
  },
  {
   "cell_type": "code",
   "execution_count": 20,
   "id": "55f3775b-fb1c-4ae5-932f-fb098545ba03",
   "metadata": {
    "tags": []
   },
   "outputs": [],
   "source": [
    "# Read CSV with the defined schema\n",
    "df_olist_customers_dataset = spark.read.csv(\"/resources/data/olist/olist_customers_dataset.csv\",header=True,schema=schema_1)\n",
    "df_olist_geolocation_dataset = spark.read.csv(\"/resources/data/olist/olist_geolocation_dataset.csv\",header=True,schema=schema_2)\n",
    "df_olist_order_items_dataset = spark.read.csv(\"/resources/data/olist/olist_order_items_dataset.csv\",header=True,schema=schema_3)\n",
    "df_olist_order_payments_dataset = spark.read.csv(\"/resources/data/olist/olist_order_payments_dataset.csv\",header=True,schema=schema_4)\n",
    "df_olist_order_reviews_dataset = spark.read.csv(\"/resources/data/olist/olist_order_reviews_dataset.csv\",header=True,schema=schema_5)\n",
    "df_olist_orders_dataset = spark.read.csv(\"/resources/data/olist/olist_orders_dataset.csv\",header=True,schema=schema_6)\n",
    "df_olist_products_dataset = spark.read.csv(\"/resources/data/olist/olist_products_dataset.csv\",header=True,schema=schema_7)\n",
    "df_olist_sellers_dataset = spark.read.csv(\"/resources/data/olist/olist_sellers_dataset.csv\",header=True,schema=schema_8)\n",
    "df_product_category_name_translation= spark.read.csv(\"/resources/data/olist/product_category_name_translation.csv\",header=True,schema=schema_9)"
   ]
  },
  {
   "cell_type": "code",
   "execution_count": 21,
   "id": "898d6fc4-c47d-4aef-888c-dde647e0996d",
   "metadata": {
    "tags": []
   },
   "outputs": [
    {
     "name": "stdout",
     "output_type": "stream",
     "text": [
      "+--------------------+--------------------+------------------------+--------------------+--------------+\n",
      "|         customer_id|  customer_unique_id|customer_zip_code_prefix|       customer_city|customer_state|\n",
      "+--------------------+--------------------+------------------------+--------------------+--------------+\n",
      "|06b8999e2fba1a1fb...|861eff4711a542e4b...|                   14409|              franca|            SP|\n",
      "|18955e83d337fd6b2...|290c77bc529b7ac93...|                   09790|sao bernardo do c...|            SP|\n",
      "|4e7b3e00288586ebd...|060e732b5b29e8181...|                   01151|           sao paulo|            SP|\n",
      "|b2b6027bc5c5109e5...|259dac757896d24d7...|                   08775|     mogi das cruzes|            SP|\n",
      "|4f2d8ab171c80ec83...|345ecd01c38d18a90...|                   13056|            campinas|            SP|\n",
      "+--------------------+--------------------+------------------------+--------------------+--------------+\n",
      "only showing top 5 rows\n",
      "\n",
      "+---------------------------+-------------------+------------------+----------------+-----------------+\n",
      "|geolocation_zip_code_prefix|    geolocation_lat|   geolocation_lng|geolocation_city|geolocation_state|\n",
      "+---------------------------+-------------------+------------------+----------------+-----------------+\n",
      "|                      01037| -23.54562128115268|-46.63929204800168|       sao paulo|               SP|\n",
      "|                      01046|-23.546081127035535|-46.64482029837157|       sao paulo|               SP|\n",
      "|                      01046| -23.54612896641469|-46.64295148361138|       sao paulo|               SP|\n",
      "|                      01041|  -23.5443921648681|-46.63949930627844|       sao paulo|               SP|\n",
      "|                      01035|-23.541577961711493|-46.64160722329613|       sao paulo|               SP|\n",
      "+---------------------------+-------------------+------------------+----------------+-----------------+\n",
      "only showing top 5 rows\n",
      "\n",
      "+--------------------+-------------+--------------------+--------------------+-------------------+-----+-------------+\n",
      "|            order_id|order_item_id|          product_id|           seller_id|shipping_limit_date|price|freight_value|\n",
      "+--------------------+-------------+--------------------+--------------------+-------------------+-----+-------------+\n",
      "|00010242fe8c5a6d1...|            1|4244733e06e7ecb49...|48436dade18ac8b2b...|2017-09-19 09:45:35| 58.9|        13.29|\n",
      "|00018f77f2f0320c5...|            1|e5f2d52b802189ee6...|dd7ddc04e1b6c2c61...|2017-05-03 11:05:13|239.9|        19.93|\n",
      "|000229ec398224ef6...|            1|c777355d18b72b67a...|5b51032eddd242adc...|2018-01-18 14:48:30|199.0|        17.87|\n",
      "|00024acbcdf0a6daa...|            1|7634da152a4610f15...|9d7a1d34a50524090...|2018-08-15 10:10:18|12.99|        12.79|\n",
      "|00042b26cf59d7ce6...|            1|ac6c3623068f30de0...|df560393f3a51e745...|2017-02-13 13:57:51|199.9|        18.14|\n",
      "+--------------------+-------------+--------------------+--------------------+-------------------+-----+-------------+\n",
      "only showing top 5 rows\n",
      "\n",
      "+--------------------+------------------+------------+--------------------+-------------+\n",
      "|            order_id|payment_sequential|payment_type|payment_installments|payment_value|\n",
      "+--------------------+------------------+------------+--------------------+-------------+\n",
      "|b81ef226f3fe1789b...|                 1| credit_card|                   8|        99.33|\n",
      "|a9810da82917af2d9...|                 1| credit_card|                   1|        24.39|\n",
      "|25e8ea4e93396b6fa...|                 1| credit_card|                   1|        65.71|\n",
      "|ba78997921bbcdc13...|                 1| credit_card|                   8|       107.78|\n",
      "|42fdf880ba16b47b5...|                 1| credit_card|                   2|       128.45|\n",
      "+--------------------+------------------+------------+--------------------+-------------+\n",
      "only showing top 5 rows\n",
      "\n",
      "+--------------------+--------------------+------------+--------------------+----------------------+--------------------+-----------------------+\n",
      "|           review_id|            order_id|review_score|review_comment_title|review_comment_message|review_creation_date|review_answer_timestamp|\n",
      "+--------------------+--------------------+------------+--------------------+----------------------+--------------------+-----------------------+\n",
      "|7bc2406110b926393...|73fc7af87114b3971...|           4|                null|                  null| 2018-01-18 00:00:00|    2018-01-18 21:46:59|\n",
      "|80e641a11e56f04c1...|a548910a1c6147796...|           5|                null|                  null| 2018-03-10 00:00:00|    2018-03-11 03:05:13|\n",
      "|228ce5500dc1d8e02...|f9e4b658b201a9f2e...|           5|                null|                  null| 2018-02-17 00:00:00|    2018-02-18 14:36:24|\n",
      "|e64fb393e7b32834b...|658677c97b385a9be...|           5|                null|  Recebi bem antes ...| 2017-04-21 00:00:00|    2017-04-21 22:02:06|\n",
      "|f7c4243c7fe1938f1...|8e6bfb81e283fa7e4...|           5|                null|  Parabéns lojas la...| 2018-03-01 00:00:00|    2018-03-02 10:26:53|\n",
      "+--------------------+--------------------+------------+--------------------+----------------------+--------------------+-----------------------+\n",
      "only showing top 5 rows\n",
      "\n",
      "+--------------------+--------------------+------------+------------------------+-------------------+----------------------------+-----------------------------+-----------------------------+\n",
      "|            order_id|         customer_id|order_status|order_purchase_timestamp|  order_approved_at|order_delivered_carrier_date|order_delivered_customer_date|order_estimated_delivery_date|\n",
      "+--------------------+--------------------+------------+------------------------+-------------------+----------------------------+-----------------------------+-----------------------------+\n",
      "|e481f51cbdc54678b...|9ef432eb625129730...|   delivered|     2017-10-02 10:56:33|2017-10-02 11:07:15|         2017-10-04 19:55:00|          2017-10-10 21:25:13|          2017-10-18 00:00:00|\n",
      "|53cdb2fc8bc7dce0b...|b0830fb4747a6c6d2...|   delivered|     2018-07-24 20:41:37|2018-07-26 03:24:27|         2018-07-26 14:31:00|          2018-08-07 15:27:45|          2018-08-13 00:00:00|\n",
      "|47770eb9100c2d0c4...|41ce2a54c0b03bf34...|   delivered|     2018-08-08 08:38:49|2018-08-08 08:55:23|         2018-08-08 13:50:00|          2018-08-17 18:06:29|          2018-09-04 00:00:00|\n",
      "|949d5b44dbf5de918...|f88197465ea7920ad...|   delivered|     2017-11-18 19:28:06|2017-11-18 19:45:59|         2017-11-22 13:39:59|          2017-12-02 00:28:42|          2017-12-15 00:00:00|\n",
      "|ad21c59c0840e6cb8...|8ab97904e6daea886...|   delivered|     2018-02-13 21:18:39|2018-02-13 22:20:29|         2018-02-14 19:46:34|          2018-02-16 18:17:02|          2018-02-26 00:00:00|\n",
      "+--------------------+--------------------+------------+------------------------+-------------------+----------------------------+-----------------------------+-----------------------------+\n",
      "only showing top 5 rows\n",
      "\n",
      "+--------------------+---------------------+-------------------+--------------------------+------------------+----------------+-----------------+-----------------+----------------+\n",
      "|          product_id|product_category_name|product_name_lenght|product_description_lenght|product_photos_qty|product_weight_g|product_length_cm|product_height_cm|product_width_cm|\n",
      "+--------------------+---------------------+-------------------+--------------------------+------------------+----------------+-----------------+-----------------+----------------+\n",
      "|1e9e8ef04dbcff454...|           perfumaria|                 40|                       287|                 1|             225|               16|               10|              14|\n",
      "|3aa071139cb16b67c...|                artes|                 44|                       276|                 1|            1000|               30|               18|              20|\n",
      "|96bd76ec8810374ed...|        esporte_lazer|                 46|                       250|                 1|             154|               18|                9|              15|\n",
      "|cef67bcfe19066a93...|                bebes|                 27|                       261|                 1|             371|               26|                4|              26|\n",
      "|9dc1a7de274444849...| utilidades_domest...|                 37|                       402|                 4|             625|               20|               17|              13|\n",
      "+--------------------+---------------------+-------------------+--------------------------+------------------+----------------+-----------------+-----------------+----------------+\n",
      "only showing top 5 rows\n",
      "\n",
      "+--------------------+----------------------+-----------------+------------+\n",
      "|           seller_id|seller_zip_code_prefix|      seller_city|seller_state|\n",
      "+--------------------+----------------------+-----------------+------------+\n",
      "|3442f8959a84dea7e...|                 13023|         campinas|          SP|\n",
      "|d1b65fc7debc3361e...|                 13844|       mogi guacu|          SP|\n",
      "|ce3ad9de960102d06...|                 20031|   rio de janeiro|          RJ|\n",
      "|c0f3eea2e14555b6f...|                 04195|        sao paulo|          SP|\n",
      "|51a04a8a6bdcb23de...|                 12914|braganca paulista|          SP|\n",
      "+--------------------+----------------------+-----------------+------------+\n",
      "only showing top 5 rows\n",
      "\n",
      "+---------------------+-----------------------------+\n",
      "|product_category_name|product_category_name_english|\n",
      "+---------------------+-----------------------------+\n",
      "|         beleza_saude|                health_beauty|\n",
      "| informatica_acess...|         computers_accesso...|\n",
      "|           automotivo|                         auto|\n",
      "|      cama_mesa_banho|               bed_bath_table|\n",
      "|     moveis_decoracao|              furniture_decor|\n",
      "+---------------------+-----------------------------+\n",
      "only showing top 5 rows\n",
      "\n"
     ]
    }
   ],
   "source": [
    "# Show the first 5 rows\n",
    "df_olist_customers_dataset.show(5)\n",
    "df_olist_geolocation_dataset.show(5)\n",
    "df_olist_order_items_dataset.show(5)\n",
    "df_olist_order_payments_dataset.show(5)\n",
    "df_olist_order_reviews_dataset.show(5)\n",
    "df_olist_orders_dataset.show(5)\n",
    "df_olist_products_dataset.show(5)\n",
    "df_olist_sellers_dataset.show(5)\n",
    "df_product_category_name_translation.show(5)"
   ]
  },
  {
   "cell_type": "code",
   "execution_count": 33,
   "id": "d07a7e94-080f-4918-a39b-5dd9b4d8ab12",
   "metadata": {
    "tags": []
   },
   "outputs": [
    {
     "name": "stdout",
     "output_type": "stream",
     "text": [
      "olist_customers_dataset.csv\n",
      "root\n",
      " |-- customer_id: string (nullable = true)\n",
      " |-- customer_unique_id: string (nullable = true)\n",
      " |-- customer_zip_code_prefix: string (nullable = true)\n",
      " |-- customer_city: string (nullable = true)\n",
      " |-- customer_state: string (nullable = true)\n",
      "\n",
      "olist_geolocation_dataset.csv\n",
      "root\n",
      " |-- geolocation_zip_code_prefix: string (nullable = true)\n",
      " |-- geolocation_lat: string (nullable = true)\n",
      " |-- geolocation_lng: string (nullable = true)\n",
      " |-- geolocation_city: string (nullable = true)\n",
      " |-- geolocation_state: string (nullable = true)\n",
      "\n",
      "olist_order_items_dataset.csv\n",
      "root\n",
      " |-- order_id: string (nullable = true)\n",
      " |-- order_item_id: string (nullable = true)\n",
      " |-- product_id: string (nullable = true)\n",
      " |-- seller_id: string (nullable = true)\n",
      " |-- shipping_limit_date: timestamp (nullable = true)\n",
      " |-- price: double (nullable = true)\n",
      " |-- freight_value: double (nullable = true)\n",
      "\n",
      "olist_order_payments_dataset.csv\n",
      "root\n",
      " |-- order_id: string (nullable = true)\n",
      " |-- payment_sequential: string (nullable = true)\n",
      " |-- payment_type: string (nullable = true)\n",
      " |-- payment_installments: integer (nullable = true)\n",
      " |-- payment_value: double (nullable = true)\n",
      "\n",
      "olist_order_reviews_dataset.csv\n",
      "root\n",
      " |-- review_id: string (nullable = true)\n",
      " |-- order_id: string (nullable = true)\n",
      " |-- review_score: integer (nullable = true)\n",
      " |-- review_comment_title: string (nullable = true)\n",
      " |-- review_comment_message: string (nullable = true)\n",
      " |-- review_creation_date: timestamp (nullable = true)\n",
      " |-- review_answer_timestamp: timestamp (nullable = true)\n",
      "\n",
      "olist_orders_dataset.csv\n",
      "root\n",
      " |-- order_id: string (nullable = true)\n",
      " |-- customer_id: string (nullable = true)\n",
      " |-- order_status: string (nullable = true)\n",
      " |-- order_purchase_timestamp: timestamp (nullable = true)\n",
      " |-- order_approved_at: timestamp (nullable = true)\n",
      " |-- order_delivered_carrier_date: timestamp (nullable = true)\n",
      " |-- order_delivered_customer_date: timestamp (nullable = true)\n",
      " |-- order_estimated_delivery_date: timestamp (nullable = true)\n",
      "\n",
      "olist_products_dataset.csv\n",
      "root\n",
      " |-- product_id: string (nullable = true)\n",
      " |-- product_category_name: string (nullable = true)\n",
      " |-- product_name_lenght: integer (nullable = true)\n",
      " |-- product_description_lenght: integer (nullable = true)\n",
      " |-- product_photos_qty: integer (nullable = true)\n",
      " |-- product_weight_g: integer (nullable = true)\n",
      " |-- product_length_cm: integer (nullable = true)\n",
      " |-- product_height_cm: integer (nullable = true)\n",
      " |-- product_width_cm: integer (nullable = true)\n",
      "\n",
      "olist_sellers_dataset.csv\n",
      "root\n",
      " |-- seller_id: string (nullable = true)\n",
      " |-- seller_zip_code_prefix: string (nullable = true)\n",
      " |-- seller_city: string (nullable = true)\n",
      " |-- seller_state: string (nullable = true)\n",
      "\n",
      "product_category_name_translation.csv\n",
      "root\n",
      " |-- product_category_name: string (nullable = true)\n",
      " |-- product_category_name_english: string (nullable = true)\n",
      "\n"
     ]
    }
   ],
   "source": [
    "print(\"olist_customers_dataset.csv\")\n",
    "df_olist_customers_dataset.printSchema()\n",
    "print(\"olist_geolocation_dataset.csv\")\n",
    "df_olist_geolocation_dataset.printSchema()\n",
    "print(\"olist_order_items_dataset.csv\")\n",
    "df_olist_order_items_dataset.printSchema()\n",
    "print(\"olist_order_payments_dataset.csv\")\n",
    "df_olist_order_payments_dataset.printSchema()\n",
    "print(\"olist_order_reviews_dataset.csv\")\n",
    "df_olist_order_reviews_dataset.printSchema()\n",
    "print(\"olist_orders_dataset.csv\")\n",
    "df_olist_orders_dataset.printSchema()\n",
    "print(\"olist_products_dataset.csv\")\n",
    "df_olist_products_dataset.printSchema()\n",
    "print(\"olist_sellers_dataset.csv\")\n",
    "df_olist_sellers_dataset.printSchema()\n",
    "print(\"product_category_name_translation.csv\")\n",
    "df_product_category_name_translation.printSchema()"
   ]
  },
  {
   "cell_type": "code",
   "execution_count": 27,
   "id": "19a1c80d-8b53-4d48-b04b-d79da2b1e74b",
   "metadata": {
    "tags": []
   },
   "outputs": [
    {
     "name": "stdout",
     "output_type": "stream",
     "text": [
      "+---------+---------+--------------------+--------+-------------------+---------+----------+--------------+\n",
      "|InvoiceNo|StockCode|         Description|Quantity|        invoiceDate|UnitPrice|CustomerID|       Country|\n",
      "+---------+---------+--------------------+--------+-------------------+---------+----------+--------------+\n",
      "|   536365|   85123A|WHITE HANGING HEA...|       6|2010-12-01 08:26:00|     2.55|     17850|United Kingdom|\n",
      "|   536365|    71053| WHITE METAL LANTERN|       6|2010-12-01 08:26:00|     3.39|     17850|United Kingdom|\n",
      "|   536365|   84406B|CREAM CUPID HEART...|       8|2010-12-01 08:26:00|     2.75|     17850|United Kingdom|\n",
      "|   536365|   84029G|KNITTED UNION FLA...|       6|2010-12-01 08:26:00|     3.39|     17850|United Kingdom|\n",
      "|   536365|   84029E|RED WOOLLY HOTTIE...|       6|2010-12-01 08:26:00|     3.39|     17850|United Kingdom|\n",
      "+---------+---------+--------------------+--------+-------------------+---------+----------+--------------+\n",
      "only showing top 5 rows\n",
      "\n"
     ]
    }
   ],
   "source": [
    "schemas = StructType([\n",
    "    StructField(\"InvoiceNo\", StringType(), True),\n",
    "    StructField(\"StockCode\", StringType(), True),\n",
    "    StructField(\"Description\", StringType(), True),\n",
    "    StructField(\"Quantity\", IntegerType(), True),\n",
    "    StructField(\"InvoiceDate\", StringType(), True),\n",
    "    StructField(\"UnitPrice\", DoubleType(), True),\n",
    "    StructField(\"CustomerID\", StringType(), True),\n",
    "    StructField(\"Country\", StringType(), True)\n",
    "])\n",
    "\n",
    "df = spark.read.csv(\"/resources/data/online-retail-dataset.csv\", header=True, schema=schemas)\n",
    "df = df.withColumn(\"invoiceDate\", to_timestamp(df[\"invoiceDate\"], \"M/d/yyyy H:mm\"))\n",
    "\n",
    "df.show(5)"
   ]
  },
  {
   "cell_type": "code",
   "execution_count": 34,
   "id": "b89fbdb5-15aa-4b59-96b9-3af44edcd0a9",
   "metadata": {
    "tags": []
   },
   "outputs": [
    {
     "name": "stdout",
     "output_type": "stream",
     "text": [
      "online-retail-dataset.csv\n",
      "root\n",
      " |-- InvoiceNo: string (nullable = true)\n",
      " |-- StockCode: string (nullable = true)\n",
      " |-- Description: string (nullable = true)\n",
      " |-- Quantity: integer (nullable = true)\n",
      " |-- invoiceDate: timestamp (nullable = true)\n",
      " |-- UnitPrice: double (nullable = true)\n",
      " |-- CustomerID: string (nullable = true)\n",
      " |-- Country: string (nullable = true)\n",
      "\n"
     ]
    }
   ],
   "source": [
    "print(\"online-retail-dataset.csv\")\n",
    "df.printSchema()"
   ]
  },
  {
   "cell_type": "code",
   "execution_count": 43,
   "id": "fec8295a-d23d-4f1a-8503-f6959e6faaac",
   "metadata": {
    "tags": []
   },
   "outputs": [
    {
     "name": "stdout",
     "output_type": "stream",
     "text": [
      "+--------------------+--------------------+--------------------+--------------------+------------+-----------+-------------+---------+-----------+\n",
      "|            order_id|          product_id|           seller_id|         customer_id|order_status|total_sales|total_freight|avg_sales|avg_freight|\n",
      "+--------------------+--------------------+--------------------+--------------------+------------+-----------+-------------+---------+-----------+\n",
      "|00010242fe8c5a6d1...|4244733e06e7ecb49...|48436dade18ac8b2b...|3ce436f183e68e078...|   delivered|       58.9|        13.29|     58.9|      13.29|\n",
      "|00018f77f2f0320c5...|e5f2d52b802189ee6...|dd7ddc04e1b6c2c61...|f6dd3ec061db4e398...|   delivered|      239.9|        19.93|    239.9|      19.93|\n",
      "|000229ec398224ef6...|c777355d18b72b67a...|5b51032eddd242adc...|6489ae5e4333f3693...|   delivered|      199.0|        17.87|    199.0|      17.87|\n",
      "|00024acbcdf0a6daa...|7634da152a4610f15...|9d7a1d34a50524090...|d4eb9395c8c0431ee...|   delivered|      12.99|        12.79|    12.99|      12.79|\n",
      "|00042b26cf59d7ce6...|ac6c3623068f30de0...|df560393f3a51e745...|58dbd0b2d70206bf4...|   delivered|      199.9|        18.14|    199.9|      18.14|\n",
      "|00048cc3ae777c65d...|ef92defde845ab845...|6426d21aca402a131...|816cbea969fe5b689...|   delivered|       21.9|        12.69|     21.9|      12.69|\n",
      "|00054e8431b9d7675...|8d4f2bb7e93e6710a...|7040e82f899a04d1b...|32e2e6ab09e778d99...|   delivered|       19.9|        11.85|     19.9|      11.85|\n",
      "|000576fe39319847c...|557d850972a7d6f79...|5996cddab893a4652...|9ed5e522dd9dd85b4...|   delivered|      810.0|        70.75|    810.0|      70.75|\n",
      "|0005a1a1728c9d785...|310ae3c140ff94b03...|a416b6a846a117243...|16150771dfd477626...|   delivered|     145.95|        11.65|   145.95|      11.65|\n",
      "|0005f50442cb953dc...|4535b0e1091c278df...|ba143b05f0110f0dc...|351d3cb2cee3c7fd0...|   delivered|      53.99|         11.4|    53.99|       11.4|\n",
      "|00061f2a7bc09da83...|d63c1011f49d98b97...|cc419e0650a3c5ba7...|c6fc061d86fab1e2b...|   delivered|      59.99|         8.88|    59.99|       8.88|\n",
      "|00063b381e2406b52...|f177554ea93259a5b...|8602a61d680a10a82...|6a899e55865de6549...|   delivered|       45.0|        12.98|     45.0|      12.98|\n",
      "|0006ec9db01a64e59...|99a4788cb24856965...|4a3ca9315b744ce9f...|5d178120c29c61748...|   delivered|       74.0|        23.32|     74.0|      23.32|\n",
      "|0008288aa423d2a3f...|368c6c730842d7801...|1f50f920176fa81da...|2355af7c75e7c98b4...|   delivered|       99.8|        26.74|     49.9|      13.37|\n",
      "|0009792311464db53...|8cab8abac59158715...|530ec6109d11eaaf8...|2a30c97668e81df7c...|   delivered|       99.9|        27.65|     99.9|      27.65|\n",
      "|0009c9a17f916a706...|3f27ac8e699df3d30...|fcb5ace8bcc92f757...|8a250edc40ebc5c39...|   delivered|      639.0|        11.34|    639.0|      11.34|\n",
      "|000aed2e25dbad2f9...|4fa33915031a8cde0...|fe2032dab1a61af87...|fff5169e583fd07fa...|   delivered|      144.0|         8.77|    144.0|       8.77|\n",
      "|000c3e6612759851c...|b50c950aba0dcead2...|218d46b86c1881d02...|3773bcf1a6fbd2923...|   delivered|       99.0|        13.71|     99.0|      13.71|\n",
      "|000e562887b1f2006...|5ed9eaf534f6936b5...|8cbac7e12637ed9cf...|2b01d668726fb0b75...|   delivered|       25.0|        16.11|     25.0|      16.11|\n",
      "|000e63d38ae8c00bb...|553e0e7590d3116a0...|1c129092bf23f28a5...|98884e672c5ba85f4...|   delivered|       47.9|         8.88|     47.9|       8.88|\n",
      "+--------------------+--------------------+--------------------+--------------------+------------+-----------+-------------+---------+-----------+\n",
      "only showing top 20 rows\n",
      "\n"
     ]
    }
   ],
   "source": [
    "olist_order_items_dataset = spark.read.csv(\"/resources/data/olist/olist_order_items_dataset.csv\", header=True, schema=StructType([\n",
    "        StructField(\"order_id\", StringType(), True),\n",
    "        StructField(\"order_item_id\", StringType(), True),\n",
    "        StructField(\"product_id\", StringType(), True),\n",
    "        StructField(\"seller_id\", StringType(), True),\n",
    "        StructField(\"shipping_limit_date\", TimestampType(), True),\n",
    "        StructField(\"price\", DoubleType(), True),\n",
    "        StructField(\"freight_value\", DoubleType(), True)\n",
    "    ]))\n",
    "\n",
    "olist_orders_dataset = spark.read.csv(\"/resources/data/olist/olist_orders_dataset.csv\", header=True, schema=StructType([\n",
    "        StructField(\"order_id\", StringType(), True),\n",
    "        StructField(\"customer_id\", StringType(), True),\n",
    "        StructField(\"order_status\", StringType(), True),\n",
    "        StructField(\"order_purchase_timestamp\", TimestampType(), True),\n",
    "        StructField(\"order_approved_at\", TimestampType(), True),\n",
    "        StructField(\"order_delivered_carrier_date\", TimestampType(), True),\n",
    "        StructField(\"order_delivered_customer_date\", TimestampType(), True),\n",
    "        StructField(\"order_estimated_delivery_date\", TimestampType(), True)\n",
    "    ]))\n",
    "\n",
    "# Join datasets on order_id\n",
    "sales_df = olist_order_items_dataset.join(olist_orders_dataset, on=\"order_id\", how=\"inner\")\n",
    "\n",
    "# Aggregation: Total price and freight value by order status\n",
    "sales_agg_df = sales_df.groupBy(\"order_id\", \"product_id\", \"seller_id\", \"customer_id\", \"order_status\").agg(\n",
    "    sum(\"price\").alias(\"total_sales\"),\n",
    "    sum(\"freight_value\").alias(\"total_freight\"),\n",
    "    avg(\"price\").alias(\"avg_sales\"),\n",
    "    avg(\"freight_value\").alias(\"avg_freight\")\n",
    ")\n",
    "\n",
    "sales_agg_df.show()"
   ]
  },
  {
   "cell_type": "code",
   "execution_count": 46,
   "id": "30b7ebff-6dfa-4c45-a1fa-1c52550d17d1",
   "metadata": {
    "tags": []
   },
   "outputs": [
    {
     "name": "stdout",
     "output_type": "stream",
     "text": [
      "+--------------------+--------------------+--------------------+---------------------+--------------------+----------------------+----------------+\n",
      "|            order_id|           seller_id|          product_id|product_category_name|review_comment_title|review_comment_message|avg_review_score|\n",
      "+--------------------+--------------------+--------------------+---------------------+--------------------+----------------------+----------------+\n",
      "|a5a854651cfe0d8da...|1900267e848ceeba8...|409ec48108c4dad21...|      cama_mesa_banho|Você paga 2 e rec...|  ROUBO! Na nota fi...|             1.0|\n",
      "|104d88e666e2ec697...|2eb70248d66e0e3ef...|a4a04b698e98a6024...|                bebes|Recebi o produto ...|  Recebi um produto...|             1.0|\n",
      "|46bbd69cb8d68f6c3...|6560211a19b47992c...|dd1247b741df17712...|   relogios_presentes|Produto com cor d...|  O produto é de bo...|             4.0|\n",
      "|57e2143bf55c040c9...|cca3071e3e9bb7d12...|c9dbe2eec19a8093c...|      cama_mesa_banho|   Muito satisfeita |  Satisfeita com pr...|             5.0|\n",
      "|7fccb4a84a452c9ec...|cd6efc47efaabf134...|afb19e2ebc7fc0880...|           brinquedos|                 bom|     produto razoável |             3.0|\n",
      "|f70dff3502fa3fe88...|f789d2c4f2c2eb38f...|208c1210f363c8251...|             pet_shop|           Recomendo|  Produto de boa qu...|             5.0|\n",
      "|4bd17c85bd06ed500...|1900267e848ceeba8...|6506fe6d39dbfe553...|      cama_mesa_banho|       não recomendo|  paguei frete e ti...|             1.0|\n",
      "|d85e7bfbf3642aa30...|b6d44737c04332870...|451f6a5c5b15c9c58...| utilidades_domest...|       tomar cuidado|  não veio uma NF c...|             2.0|\n",
      "|fdd5e4264311601ee...|88460e8ebdecbfecb...|b0c8da302d49498d2...| informatica_acess...|FRETE EM DOBRO- A...|  GOSTARIA DE FAZER...|             4.0|\n",
      "|7e3da8f7ef82afccb...|b839e41795b7f3ad9...|44fc450365728c413...|      eletroportateis| Venda profissional |  O serviço de entr...|             4.0|\n",
      "|cdf3be569e5ffb3e7...|65febd49fd28ec955...|ff5bdcc63751127e7...| utilidades_domest...|            Perfeito|  Entrega no prazo,...|             5.0|\n",
      "|8e9358bf838db65d9...|4869f7a5dfa277a7d...|78119fbfa709d07b8...|           cool_stuff|       Decepcionado |  Eu comprei o prod...|             1.0|\n",
      "|d2271c114a00d818b...|abe42c5d03695b425...|82df58fc3b035fa42...|         beleza_saude|          Satisfeita|  O produto foi ent...|             5.0|\n",
      "|26884dfc89f32e105...|c70c1b0d8ca86052f...|3258acb04d37e2f91...|         beleza_saude|               frete|  no geral, acredit...|             5.0|\n",
      "|effeb0c3ecae530d0...|eeb6de78f79159600...|09461131e28a1b165...|   ferramentas_jardim|           Recomendo|  A compra do produ...|             5.0|\n",
      "|0805ef7875f007ad8...|4a3ca9315b744ce9f...|64fb265487de22386...|      cama_mesa_banho|           RECOMENDO|  A colcha é muito ...|             4.0|\n",
      "|f4788173ecaa85907...|16090f2ca825584b5...|1e1e594f54aee5d34...|           automotivo| Produto com defeito|  O produto veio co...|             1.0|\n",
      "|434d158e96bdd6972...|a5cba26a62b8b4d01...|c7df652246ed7b330...|         beleza_saude|Produto novo e or...|  Produto veio bem ...|             5.0|\n",
      "|3ae6f437745a33a4f...|a3e9a2c700480d9bb...|1c21c1ed398eae611...|      cama_mesa_banho|             Rapidez|  Adorei entrega rá...|             5.0|\n",
      "|c52af89e91822e0fe...|81f89e42267213cb9...|027cdd14a677a5834...|           perfumaria|           Recomendo|  Sempre comprei e ...|             5.0|\n",
      "+--------------------+--------------------+--------------------+---------------------+--------------------+----------------------+----------------+\n",
      "only showing top 20 rows\n",
      "\n"
     ]
    }
   ],
   "source": [
    "# Baca dataset\n",
    "products_df = spark.read.csv(\"/resources/data/olist/olist_products_dataset.csv\", \n",
    "                             header=True, \n",
    "                             schema=StructType([\n",
    "                                    StructField(\"product_id\", StringType(), True),\n",
    "                                    StructField(\"product_category_name\", StringType(), True),\n",
    "                                    StructField(\"product_name_lenght\", IntegerType(), True),\n",
    "                                    StructField(\"product_description_lenght\", IntegerType(), True),\n",
    "                                    StructField(\"product_photos_qty\", IntegerType(), True),\n",
    "                                    StructField(\"product_weight_g\", IntegerType(), True),\n",
    "                                    StructField(\"product_length_cm\", IntegerType(), True),\n",
    "                                    StructField(\"product_height_cm\", IntegerType(), True),\n",
    "                                    StructField(\"product_width_cm\", IntegerType(), True)\n",
    "                                ])\n",
    "                                )\n",
    "\n",
    "reviews_df = spark.read.csv(\"/resources/data/olist/olist_order_reviews_dataset.csv\", \n",
    "                            header=True, \n",
    "                            schema=StructType([\n",
    "                                   StructField(\"review_id\", StringType(), True),\n",
    "                                   StructField(\"order_id\", StringType(), True),\n",
    "                                   StructField(\"review_score\", IntegerType(), True),\n",
    "                                   StructField(\"review_comment_title\", StringType(), True),\n",
    "                                   StructField(\"review_comment_message\", StringType(), True),\n",
    "                                   StructField(\"review_creation_date\", TimestampType(), True),\n",
    "                                   StructField(\"review_answer_timestamp\", TimestampType(), True)\n",
    "                                ])\n",
    "                                )\n",
    "\n",
    "items_df = spark.read.csv(\"/resources/data/olist/olist_order_items_dataset.csv\", \n",
    "                          header=True,\n",
    "                          schema=StructType([\n",
    "                                 StructField(\"order_id\", StringType(), True),\n",
    "                                 StructField(\"order_item_id\", StringType(), True),\n",
    "                                 StructField(\"product_id\", StringType(), True),\n",
    "                                 StructField(\"seller_id\", StringType(), True),\n",
    "                                 StructField(\"shipping_limit_date\", TimestampType(), True),\n",
    "                                 StructField(\"price\", DoubleType(), True),\n",
    "                                 StructField(\"freight_value\", DoubleType(), True)\n",
    "                                 ])\n",
    "                                 )\n",
    "\n",
    "# Gabungkan items dan review berdasarkan order_id, lalu join dengan products berdasarkan product_id\n",
    "product_reviews_df = items_df.join(reviews_df, on=\"order_id\", how=\"inner\").join(products_df, on=\"product_id\", how=\"inner\")\n",
    "\n",
    "# Agregasi rata-rata skor review per kategori produk\n",
    "review_score_by_category = product_reviews_df.groupBy(\"order_id\", \"seller_id\", \"product_id\", \"product_category_name\", \"review_comment_title\", \"review_comment_message\").agg(\n",
    "    avg(\"review_score\").alias(\"avg_review_score\")\n",
    ")\n",
    "\n",
    "review_score_by_category.show()"
   ]
  },
  {
   "cell_type": "code",
   "execution_count": null,
   "id": "b740c9ab-bc14-471d-8eb6-68420e5df504",
   "metadata": {},
   "outputs": [],
   "source": []
  }
 ],
 "metadata": {
  "kernelspec": {
   "display_name": "Python 3 (ipykernel)",
   "language": "python",
   "name": "python3"
  },
  "language_info": {
   "codemirror_mode": {
    "name": "ipython",
    "version": 3
   },
   "file_extension": ".py",
   "mimetype": "text/x-python",
   "name": "python",
   "nbconvert_exporter": "python",
   "pygments_lexer": "ipython3",
   "version": "3.10.10"
  }
 },
 "nbformat": 4,
 "nbformat_minor": 5
}
